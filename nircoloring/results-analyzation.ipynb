{
 "cells": [
  {
   "cell_type": "code",
   "execution_count": null,
   "metadata": {
    "collapsed": true
   },
   "outputs": [],
   "source": [
    "from os.path import join\n",
    "\n",
    "import matplotlib.pyplot as plt\n",
    "import os\n",
    "import pandas as pd\n",
    "import seaborn as sns\n",
    "import tqdm\n",
    "\n",
    "from config import CYCLE_GAN_DIR_RESULTS, SERENGETI_NIR_INCANDESCENT_DATASET_OUT, CALTECH_NIR_DATASET_OUT, \\\n",
    "    CALTECH_GRAY_DATASET_OUT\n",
    "from evaluation.fid import calculate_fid\n",
    "\n",
    "sns.set_theme()\n",
    "\n",
    "pd.set_option('display.max_rows', 500)\n",
    "plt.rcParams[\"figure.figsize\"] = (16, 9)"
   ]
  },
  {
   "cell_type": "code",
   "execution_count": null,
   "outputs": [],
   "source": [
    "CYCLE_GAN_RESULT_MATCHER = \"*_fake.png\"\n",
    "CUT_RESULT_MATCHER = \"fake_B/*.png\"\n",
    "DATASET_TESTB_MATCHER = \"*.jpg\"\n",
    "\n",
    "NETWORK_NAME_MAP = {\n",
    "    \"CycleGAN (Incandescent)\": (\"cycle_gan_nir_incadescent_caltech\", CALTECH_NIR_DATASET_OUT),\n",
    "    \"CycleGAN (Random)\": (\n",
    "    \"nir_cyclegan_unet_ralsgan_sampling_ssim_ttur_2_cyc_spectral_normalization_reduced_cycle_detach\",\n",
    "    CALTECH_NIR_DATASET_OUT),\n",
    "    \"CycleGAN (Grayscale)\": (\"gray_cycle_gan\", CALTECH_GRAY_DATASET_OUT),\n",
    "    \"CUT (Grayscale)\": (\"gray_cut\", CALTECH_GRAY_DATASET_OUT),\n",
    "    \"CycleGAN (3e-5,9e-4)\": (\"cycle_gan_serengeti_inc_0_00003_0_0009\", SERENGETI_NIR_INCANDESCENT_DATASET_OUT),\n",
    "    \"CycleGAN (3e-5,9e-5)\": (\"cycle_gan_serengeti_inc_0_00003_0_00009\", SERENGETI_NIR_INCANDESCENT_DATASET_OUT),\n",
    "    \"CycleGAN (1.5e-5,4.5e-5)\": (\"cycle_gan_serengeti_inc_0_000015_0_000045\", SERENGETI_NIR_INCANDESCENT_DATASET_OUT),\n",
    "    \"CycleGAN (3e-6,9e-5)\": (\"cycle_gan_serengeti_inc_0_000003_0_00009\", SERENGETI_NIR_INCANDESCENT_DATASET_OUT),\n",
    "    \"CycleGAN (3e-6,9e-6)\": (\"cycle_gan_serengeti_inc_0_000003_0_000009\", SERENGETI_NIR_INCANDESCENT_DATASET_OUT),\n",
    "    \"CUT (2e-3)\": (\"cut_serengeti_inc_0_0002\", SERENGETI_NIR_INCANDESCENT_DATASET_OUT),\n",
    "    \"CUT (2e-4)\": (\"cut_serengeti_inc_0_00002\", SERENGETI_NIR_INCANDESCENT_DATASET_OUT),\n",
    "    \"CUT (2e-5)\": (\"cut_serengeti_inc_0_000002\", SERENGETI_NIR_INCANDESCENT_DATASET_OUT),\n",
    "    \"CUT (2e-6)\": (\"cut_serengeti_inc_0_0000002\", SERENGETI_NIR_INCANDESCENT_DATASET_OUT)\n",
    "}\n",
    "\n",
    "\n",
    "def map_epoch_name(name):\n",
    "    name = name.removeprefix(\"test_\")\n",
    "    return int(name)\n",
    "\n",
    "\n",
    "def map_network_name(name):\n",
    "    if name in NETWORK_NAME_MAP.keys():\n",
    "        return NETWORK_NAME_MAP[name]\n",
    "    return name\n",
    "\n",
    "\n",
    "results = []\n",
    "\n",
    "\n",
    "def get_matcher(network_name):\n",
    "    if \"cut\" in network_name:\n",
    "        return CUT_RESULT_MATCHER\n",
    "    else:\n",
    "        return CYCLE_GAN_RESULT_MATCHER\n",
    "\n",
    "\n",
    "for network_name, (network_dir_name, dataset_path) in tqdm.tqdm(NETWORK_NAME_MAP.items(), \"Processing networks\"):\n",
    "    network_dir = join(CYCLE_GAN_DIR_RESULTS, network_dir_name)\n",
    "    dataset_b_dir = join(dataset_path, \"testB\")\n",
    "    for epoch_result in tqdm.tqdm(os.listdir(network_dir), f\"Processing epochs of network \\\"{network_name}\\\"\"):\n",
    "        epoch_result_dir = join(network_dir, epoch_result, \"images\")\n",
    "        matcher = get_matcher(network_dir_name)\n",
    "\n",
    "        fid = calculate_fid(dataset_b_dir, epoch_result_dir, DATASET_TESTB_MATCHER, matcher)\n",
    "\n",
    "        results.append([network_name, map_epoch_name(epoch_result), fid])\n",
    "\n",
    "df = pd.DataFrame(results, columns=[\"network\", \"epoch\", \"FID\"])\n",
    "df"
   ],
   "metadata": {
    "collapsed": false
   }
  },
  {
   "cell_type": "code",
   "execution_count": null,
   "outputs": [],
   "source": [
    "df.groupby(by=[\"network\", \"epoch\"]).min()"
   ],
   "metadata": {
    "collapsed": false
   }
  },
  {
   "cell_type": "code",
   "execution_count": null,
   "outputs": [],
   "source": [
    "df = df.sort_values(by=[\"network\", \"epoch\"])\n",
    "df"
   ],
   "metadata": {
    "collapsed": false
   }
  },
  {
   "cell_type": "code",
   "execution_count": null,
   "outputs": [],
   "source": [
    "def plot_fid(df, networks):\n",
    "    epoch_per_network_fid = df[df[\"network\"].isin(networks)].groupby(by=[\"epoch\", \"network\"]).min()\n",
    "    epoch_per_network_fid = epoch_per_network_fid.sort_index()\n",
    "    epoch_per_network_fid: pd.DataFrame = epoch_per_network_fid.reset_index()\n",
    "    display(epoch_per_network_fid.sort_values(\"FID\"))\n",
    "    plt.title(\"FID per network per epoch\")\n",
    "    sns.barplot(x=\"epoch\", y=\"FID\", hue=\"network\", data=epoch_per_network_fid, hue_order=networks)"
   ],
   "metadata": {
    "collapsed": false
   }
  },
  {
   "cell_type": "code",
   "execution_count": null,
   "outputs": [],
   "source": [
    "plot_fid(df, [\n",
    "    \"CycleGAN (Random)\", \"CycleGAN (Incandescent)\"\n",
    "])"
   ],
   "metadata": {
    "collapsed": false
   }
  },
  {
   "cell_type": "code",
   "execution_count": null,
   "outputs": [],
   "source": [
    "plot_fid(df, [\n",
    "    \"CUT (night $\\\\rightarrow$ day)\",\n",
    "    \"CycleGAN (night $\\\\rightarrow$ day)\"\n",
    "])"
   ],
   "metadata": {
    "collapsed": false
   }
  },
  {
   "cell_type": "code",
   "execution_count": null,
   "outputs": [],
   "source": [
    "plot_fid(df, [\n",
    "    \"CUT (Grayscale)\",\n",
    "    \"CycleGAN (Grayscale)\"\n",
    "])"
   ],
   "metadata": {
    "collapsed": false
   }
  },
  {
   "cell_type": "code",
   "execution_count": null,
   "outputs": [],
   "source": [
    "plot_fid(df, [\n",
    "    \"CUT (2e-3)\", \"CUT (2e-4)\", \"CUT (2e-5)\", \"CUT (2e-6)\"\n",
    "])"
   ],
   "metadata": {
    "collapsed": false
   }
  },
  {
   "cell_type": "code",
   "execution_count": null,
   "outputs": [],
   "source": [
    "plot_fid(df, [\n",
    "    \"CycleGAN (3e-5,9e-4)\",\n",
    "    \"CycleGAN (3e-5,9e-5)\",\n",
    "    \"CycleGAN (1.5e-5,4.5e-5)\",\n",
    "    \"CycleGAN (3e-6,9e-5)\",\n",
    "    \"CycleGAN (3e-6,9e-6)\"\n",
    "])"
   ],
   "metadata": {
    "collapsed": false
   }
  },
  {
   "cell_type": "code",
   "execution_count": null,
   "outputs": [],
   "source": [
    "plot_fid(df, [\n",
    "    \"CycleGAN (1.5e-5,4.5e-5)\",\n",
    "    \"CUT (2e-5)\"\n",
    "])"
   ],
   "metadata": {
    "collapsed": false
   }
  }
 ],
 "metadata": {
  "kernelspec": {
   "display_name": "Python 3",
   "language": "python",
   "name": "python3"
  },
  "language_info": {
   "codemirror_mode": {
    "name": "ipython",
    "version": 2
   },
   "file_extension": ".py",
   "mimetype": "text/x-python",
   "name": "python",
   "nbconvert_exporter": "python",
   "pygments_lexer": "ipython2",
   "version": "2.7.6"
  }
 },
 "nbformat": 4,
 "nbformat_minor": 0
}
