{
 "cells": [
  {
   "cell_type": "code",
   "execution_count": null,
   "outputs": [],
   "source": [
    "from PIL import Image\n",
    "import pandas as pd\n",
    "\n",
    "from nircoloring.config import get_dataset_image_file, DATASET_TEMP_IMAGES\n",
    "from nircoloring.dataset.caltech import fetch_file_from_blob, load_metadata, load_filenames"
   ],
   "metadata": {
    "collapsed": false
   }
  },
  {
   "cell_type": "code",
   "execution_count": null,
   "outputs": [],
   "source": [
    "filename = \"5a2c8488-23d2-11e8-a6a3-ec086b02610b.jpg\"\n",
    "await fetch_file_from_blob(filename, DATASET_TEMP_IMAGES, scale_and_crop=False)\n",
    "path = get_dataset_image_file(filename)\n",
    "img = Image.open(path)\n",
    "\n",
    "print(img.height)\n",
    "print(img.width)\n",
    "\n",
    "img = img.crop((0, 30, img.width, img.height - 90))\n",
    "\n",
    "crop_size = min(img.width, img.height)\n",
    "print(crop_size)\n",
    "\n",
    "left = int((img.width - crop_size) / 2)\n",
    "top = int((img.height - crop_size) / 2)\n",
    "right = int((img.width + crop_size) / 2)\n",
    "bottom = int((img.height + crop_size) / 2)\n",
    "\n",
    "img = img.crop((left, top, right, bottom))\n",
    "\n",
    "img.resize((1024, 1024), Image.LANCZOS)"
   ],
   "metadata": {
    "collapsed": false
   }
  },
  {
   "cell_type": "code",
   "execution_count": null,
   "outputs": [],
   "source": [
    "metadata = load_metadata()\n",
    "\n",
    "df = pd.DataFrame(data=metadata[\"images\"])\n",
    "df"
   ],
   "metadata": {
    "collapsed": false
   }
  },
  {
   "cell_type": "code",
   "execution_count": null,
   "outputs": [],
   "source": [
    "df.groupby([\"location\"]).count()"
   ],
   "metadata": {
    "collapsed": false
   }
  },
  {
   "cell_type": "code",
   "execution_count": null,
   "outputs": [],
   "source": [
    "df.groupby([\"seq_id\"]).count().sort_values(by=[\"seq_num_frames\"],ascending=False)"
   ],
   "metadata": {
    "collapsed": false
   }
  },
  {
   "cell_type": "code",
   "execution_count": null,
   "outputs": [],
   "source": [
    "filenames = set(load_filenames())\n",
    "df_ds = pd.DataFrame(data=filter(lambda x: x[\"file_name\"].strip() in filenames, metadata[\"images\"]))\n",
    "df_ds"
   ],
   "metadata": {
    "collapsed": false
   }
  },
  {
   "cell_type": "code",
   "execution_count": null,
   "outputs": [],
   "source": [
    "df_ds.groupby([\"location\"]).size()"
   ],
   "metadata": {
    "collapsed": false
   }
  },
  {
   "cell_type": "code",
   "execution_count": null,
   "outputs": [],
   "source": [
    "for file_name in df_ds[df_ds.location == \"96\"][\"file_name\"][1:6]:\n",
    "    await fetch_file_from_blob(file_name, DATASET_TEMP_IMAGES)\n",
    "    image = Image.open(get_dataset_image_file(file_name))\n",
    "    display(image)"
   ],
   "metadata": {
    "collapsed": false
   }
  }
 ],
 "metadata": {
  "kernelspec": {
   "display_name": "Python 3 (ipykernel)",
   "language": "python",
   "name": "python3"
  },
  "language_info": {
   "codemirror_mode": {
    "name": "ipython",
    "version": 3
   },
   "file_extension": ".py",
   "mimetype": "text/x-python",
   "name": "python",
   "nbconvert_exporter": "python",
   "pygments_lexer": "ipython3",
   "version": "3.10.6"
  }
 },
 "nbformat": 4,
 "nbformat_minor": 1
}
