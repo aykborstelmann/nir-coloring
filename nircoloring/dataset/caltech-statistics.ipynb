{
 "cells": [
  {
   "cell_type": "code",
   "execution_count": null,
   "outputs": [],
   "source": [
    "from PIL import Image\n",
    "\n",
    "from nircoloring.config import get_dataset_image_file, DATASET_TEMP_IMAGES\n",
    "from nircoloring.dataset.caltech import fetch_file_from_blob"
   ],
   "metadata": {
    "collapsed": false
   }
  },
  {
   "cell_type": "code",
   "execution_count": null,
   "outputs": [],
   "source": [
    "filename = \"58adc476-23d2-11e8-a6a3-ec086b02610b.jpg\"\n",
    "await fetch_file_from_blob(filename, DATASET_TEMP_IMAGES)\n",
    "path = get_dataset_image_file(filename)\n",
    "img = Image.open(path)\n",
    "\n",
    "img = img.crop((0, 30, img.width, img.height - 90))\n",
    "\n",
    "crop_size = min(img.width, img.height)\n",
    "\n",
    "left = int((img.width - crop_size) / 2)\n",
    "top = int((img.height - crop_size) / 2)\n",
    "right = int((img.width + crop_size) / 2)\n",
    "bottom = int((img.height + crop_size) / 2)\n",
    "img = img.crop((left, top, right, bottom))\n",
    "\n",
    "img.resize((1024, 1024), Image.LANCZOS)"
   ],
   "metadata": {
    "collapsed": false
   }
  }
 ],
 "metadata": {
  "kernelspec": {
   "display_name": "Python 3 (ipykernel)",
   "language": "python",
   "name": "python3"
  },
  "language_info": {
   "codemirror_mode": {
    "name": "ipython",
    "version": 3
   },
   "file_extension": ".py",
   "mimetype": "text/x-python",
   "name": "python",
   "nbconvert_exporter": "python",
   "pygments_lexer": "ipython3",
   "version": "3.10.6"
  }
 },
 "nbformat": 4,
 "nbformat_minor": 1
}
