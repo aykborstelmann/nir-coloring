{
 "cells": [
  {
   "cell_type": "code",
   "execution_count": null,
   "outputs": [],
   "source": [
    "import copy\n",
    "\n",
    "import matplotlib.pyplot as plt\n",
    "import os\n",
    "import pandas as pd\n",
    "import torch\n",
    "from torch import nn\n",
    "from torch.utils.data import DataLoader\n",
    "from torchvision import models, transforms\n",
    "from tqdm.notebook import tqdm\n",
    "import seaborn as sns\n",
    "\n",
    "sns.set_theme()\n",
    "plt.rcParams[\"figure.figsize\"] = (16, 9)\n",
    "\n",
    "from nircoloring.config import SERENGETI_NIR_INCANDESCENT_DATASET_OUT\n",
    "from nircoloring.dataset.caltech import SerengetiMetaDataSource"
   ],
   "metadata": {
    "collapsed": false
   }
  },
  {
   "cell_type": "code",
   "execution_count": null,
   "outputs": [],
   "source": [
    "import os\n",
    "\n",
    "networks_to_prepare = [(\"cycle_gan_serengeti_inc_0_000015_0_000045\", \"200\")]\n",
    "\n",
    "for name, epoch in networks_to_prepare:\n",
    "    for phase in [\"train\", \"val\", \"test\"]:\n",
    "        directory = f\"/tmp/borstelmanna0/results/{phase}/{name}/test_{epoch}/images\"\n",
    "        for file in tqdm(os.listdir(directory)):\n",
    "            filename_without_extension, extension = os.path.splitext(file)\n",
    "            filepath = os.path.join(directory, file)\n",
    "            if filename_without_extension.endswith(\"_real\"):\n",
    "                os.remove(filepath)\n",
    "            if filename_without_extension.endswith(\"_fake\"):\n",
    "                new_filename = filename_without_extension.removesuffix(\"_fake\") + \".jpg\"\n",
    "                os.rename(filepath, os.path.join(directory, new_filename))"
   ],
   "metadata": {
    "collapsed": false
   }
  },
  {
   "cell_type": "code",
   "execution_count": null,
   "outputs": [],
   "source": [
    "networks_to_prepare = [(\"cut_serengeti_inc_0_000002\", \"400\")]\n",
    "\n",
    "for name, epoch in networks_to_prepare:\n",
    "    for phase in [\"train\", \"val\", \"test\"]:\n",
    "        directory = f\"/tmp/borstelmanna0/cut-results/{name}/{phase}_{epoch}/images/fake_B\"\n",
    "        for file in tqdm(os.listdir(directory)):\n",
    "            filename_without_extension, extension = os.path.splitext(file)\n",
    "            new_filename = filename_without_extension + \".jpg\"\n",
    "            filepath = os.path.join(directory, file)\n",
    "            os.rename(filepath, os.path.join(directory, new_filename))"
   ],
   "metadata": {
    "collapsed": false
   }
  },
  {
   "cell_type": "code",
   "execution_count": null,
   "outputs": [],
   "source": [
    "from PIL import Image\n",
    "from torch.utils.data.dataset import T_co\n",
    "from torch.utils.data import Dataset\n",
    "from nircoloring.dataset.caltech import AbstractMetaDataSource\n",
    "\n",
    "\n",
    "def parse_label_map(meta_data_source: AbstractMetaDataSource, entries: pd.Series):\n",
    "    images = meta_data_source.load_images()\n",
    "    annotations = meta_data_source.load_annotations()\n",
    "\n",
    "    images[\"base_file_name\"] = images[\"file_name\"].str.lower().str.rpartition(\"/\")[2]\n",
    "    images = images[images[\"base_file_name\"].isin(entries.str.lower())]\n",
    "    labels = annotations.groupby(\"image_id\")[\"category_id\"].unique()\n",
    "    images = images.merge(labels, how=\"left\", left_on=\"id\", right_on=\"image_id\")\n",
    "    return images[[\"base_file_name\", \"category_id\"]].set_index(\"base_file_name\")\n",
    "\n",
    "\n",
    "class SerengetiDataset(Dataset):\n",
    "    def __init__(self, path, meta_data_source, transform, size) -> None:\n",
    "        self.path = path\n",
    "        self.entries: pd.Series = pd.Series(os.listdir(path))\n",
    "        self.label_map: pd.DataFrame = parse_label_map(meta_data_source, self.entries)\n",
    "        self.transform = transform\n",
    "        self.size = size\n",
    "\n",
    "    def __len__(self):\n",
    "        return len(self.entries)\n",
    "\n",
    "    def __getitem__(self, index) -> T_co:\n",
    "        filename = self.entries[index]\n",
    "        img_file_path = os.path.join(self.path, filename)\n",
    "        img = Image.open(img_file_path).convert('RGB')\n",
    "        img = self.transform(img)\n",
    "\n",
    "        labels_indices = self.label_map[\"category_id\"][filename.lower()]\n",
    "\n",
    "        return {\n",
    "            'image': img,\n",
    "            'labels': int(labels_indices[0])\n",
    "        }"
   ],
   "metadata": {
    "collapsed": false
   }
  },
  {
   "cell_type": "code",
   "execution_count": null,
   "outputs": [],
   "source": [
    "transformations = transforms.Compose([\n",
    "    transforms.Resize((256, 256)),\n",
    "    transforms.ToTensor()\n",
    "])\n",
    "\n",
    "nir_train_dataset = SerengetiDataset(path=os.path.join(SERENGETI_NIR_INCANDESCENT_DATASET_OUT, \"trainA\"),\n",
    "                                     transform=transformations,\n",
    "                                     meta_data_source=SerengetiMetaDataSource(),\n",
    "                                     size=61)\n",
    "\n",
    "nir_test_dataset = SerengetiDataset(path=os.path.join(SERENGETI_NIR_INCANDESCENT_DATASET_OUT, \"testA\"),\n",
    "                                    transform=transformations,\n",
    "                                    meta_data_source=SerengetiMetaDataSource(),\n",
    "                                    size=61)\n",
    "\n",
    "nir_val_dataset = SerengetiDataset(path=os.path.join(SERENGETI_NIR_INCANDESCENT_DATASET_OUT, \"valA\"),\n",
    "                                   transform=transformations,\n",
    "                                   meta_data_source=SerengetiMetaDataSource(),\n",
    "                                   size=61)\n",
    "\n",
    "inc_train_dataset = SerengetiDataset(path=os.path.join(SERENGETI_NIR_INCANDESCENT_DATASET_OUT, \"trainB\"),\n",
    "                                     transform=transformations,\n",
    "                                     meta_data_source=SerengetiMetaDataSource(),\n",
    "                                     size=61)\n",
    "\n",
    "inc_test_dataset = SerengetiDataset(path=os.path.join(SERENGETI_NIR_INCANDESCENT_DATASET_OUT, \"testB\"),\n",
    "                                    transform=transformations,\n",
    "                                    meta_data_source=SerengetiMetaDataSource(),\n",
    "                                    size=61)\n",
    "\n",
    "inc_val_dataset = SerengetiDataset(path=os.path.join(SERENGETI_NIR_INCANDESCENT_DATASET_OUT, \"valB\"),\n",
    "                                   transform=transformations,\n",
    "                                   meta_data_source=SerengetiMetaDataSource(),\n",
    "                                   size=61)"
   ],
   "metadata": {
    "collapsed": false
   }
  },
  {
   "cell_type": "code",
   "execution_count": null,
   "outputs": [],
   "source": [
    "inc_test_dataset = SerengetiDataset(path=os.path.join(SERENGETI_NIR_INCANDESCENT_DATASET_OUT, \"testB\"),\n",
    "                                    transform=transformations,\n",
    "                                    meta_data_source=SerengetiMetaDataSource(),\n",
    "                                    size=61)"
   ],
   "metadata": {
    "collapsed": false
   }
  },
  {
   "cell_type": "code",
   "execution_count": null,
   "outputs": [],
   "source": [
    "cycle_gan_train_dataset = SerengetiDataset(\n",
    "    path=\"/tmp/borstelmanna0/results/train/cycle_gan_serengeti_inc_0_000015_0_000045/test_200/images\",\n",
    "    transform=transformations,\n",
    "    meta_data_source=SerengetiMetaDataSource(),\n",
    "    size=61\n",
    ")\n",
    "\n",
    "cycle_gan_test_dataset = SerengetiDataset(\n",
    "    path=\"/tmp/borstelmanna0/results/test/cycle_gan_serengeti_inc_0_000015_0_000045/test_200/images\",\n",
    "    transform=transformations,\n",
    "    meta_data_source=SerengetiMetaDataSource(),\n",
    "    size=61\n",
    ")\n",
    "\n",
    "cycle_gan_val_dataset = SerengetiDataset(\n",
    "    path=\"/tmp/borstelmanna0/results/val/cycle_gan_serengeti_inc_0_000015_0_000045/test_200/images\",\n",
    "    transform=transformations,\n",
    "    meta_data_source=SerengetiMetaDataSource(),\n",
    "    size=61\n",
    ")"
   ],
   "metadata": {
    "collapsed": false
   }
  },
  {
   "cell_type": "code",
   "execution_count": null,
   "outputs": [],
   "source": [
    "cut_train_dataset = SerengetiDataset(\n",
    "    path=\"/tmp/borstelmanna0/cut-results/cut_serengeti_inc_0_000002/train_400/images/fake_B/\",\n",
    "    transform=transformations,\n",
    "    meta_data_source=SerengetiMetaDataSource(),\n",
    "    size=61\n",
    ")\n",
    "\n",
    "cut_test_dataset = SerengetiDataset(\n",
    "    path=\"/tmp/borstelmanna0/cut-results/cut_serengeti_inc_0_000002/test_400/images/fake_B/\",\n",
    "    transform=transformations,\n",
    "    meta_data_source=SerengetiMetaDataSource(),\n",
    "    size=61\n",
    ")\n",
    "\n",
    "cut_val_dataset = SerengetiDataset(\n",
    "    path=\"/tmp/borstelmanna0/cut-results/cut_serengeti_inc_0_000002/val_400/images/fake_B/\",\n",
    "    transform=transformations,\n",
    "    meta_data_source=SerengetiMetaDataSource(),\n",
    "    size=61\n",
    ")"
   ],
   "metadata": {
    "collapsed": false
   }
  },
  {
   "cell_type": "code",
   "execution_count": null,
   "outputs": [],
   "source": [
    "def accuracy(outputs, target: torch.Tensor):\n",
    "    _, preds = torch.max(outputs, 1)\n",
    "    return torch.sum(target == preds).item() / len(preds)"
   ],
   "metadata": {
    "collapsed": false
   }
  },
  {
   "cell_type": "code",
   "execution_count": null,
   "outputs": [],
   "source": [
    "def train(model: torch.nn.Module, dataloader: DataLoader, optimizer: torch.optim.Optimizer, criterion: torch.nn.Module,\n",
    "          device):\n",
    "    model.train()\n",
    "    counter = 0\n",
    "    train_running_loss = 0.0\n",
    "    acc_running = 0.0\n",
    "    for i, data in enumerate(tqdm(dataloader, \"Training\")):\n",
    "        counter += 1\n",
    "        data, target = data['image'].to(device), data['labels'].to(device)\n",
    "        optimizer.zero_grad()\n",
    "\n",
    "        outputs = model(data)\n",
    "        loss = criterion(outputs, target)\n",
    "\n",
    "        train_running_loss += loss.item()\n",
    "\n",
    "        loss.backward()\n",
    "        optimizer.step()\n",
    "\n",
    "        acc_running += accuracy(outputs, target)\n",
    "\n",
    "    train_loss = train_running_loss / counter\n",
    "    acc = acc_running / counter\n",
    "    return train_loss, acc"
   ],
   "metadata": {
    "collapsed": false
   }
  },
  {
   "cell_type": "code",
   "execution_count": null,
   "outputs": [],
   "source": [
    "def validate(model: torch.nn.Module, dataloader: DataLoader, criterion: torch.nn.Module, device):\n",
    "    model.eval()\n",
    "    counter = 0\n",
    "    val_running_loss = 0.0\n",
    "    acc_running = 0.0\n",
    "\n",
    "    with torch.no_grad():\n",
    "        for i, data in enumerate(tqdm(dataloader, \"Validating\")):\n",
    "            counter += 1\n",
    "            data, target = data['image'].to(device), data['labels'].to(device)\n",
    "\n",
    "            outputs = model(data)\n",
    "            loss = criterion(outputs, target)\n",
    "\n",
    "            acc_running += accuracy(outputs, target)\n",
    "            val_running_loss += loss.item()\n",
    "\n",
    "        val_loss = val_running_loss / counter\n",
    "        acc = acc_running / counter\n",
    "\n",
    "        return val_loss, acc"
   ],
   "metadata": {
    "collapsed": false
   }
  },
  {
   "cell_type": "code",
   "execution_count": null,
   "outputs": [],
   "source": [
    "def plot(train_loss, val_loss, train_acc, val_acc):\n",
    "    fig, axs = plt.subplots(1, 2)\n",
    "    axs[0].plot(train_loss, label='train loss')\n",
    "    axs[0].plot(val_loss, label='validation loss')\n",
    "    axs[1].plot(train_acc, label='train accuracy')\n",
    "    axs[1].plot(val_acc, label='test accuracy')\n",
    "    axs[0].set_xlabel('Epochs')\n",
    "    axs[0].set_ylabel('Loss')\n",
    "    axs[0].legend()\n",
    "    axs[1].set_xlabel('Epochs')\n",
    "    axs[1].set_ylabel('Accuracy')\n",
    "    axs[1].legend()\n",
    "    plt.show()\n",
    "\n",
    "\n",
    "def fit(model, epochs, optimizer, criterion, train_loader, val_loader, plot_freq=5):\n",
    "    train_loss = []\n",
    "    train_acc = []\n",
    "    val_loss = []\n",
    "    val_acc = []\n",
    "\n",
    "    best_acc = 0.0\n",
    "    best_model = model.state_dict()\n",
    "\n",
    "    for epoch in tqdm(range(epochs), \"Processing epochs\"):\n",
    "        train_epoch_loss, train_acc_epoch = train(model, train_loader, optimizer, criterion, device)\n",
    "        val_epoch_loss, val_acc_epoch = validate(model, val_loader, criterion, device)\n",
    "\n",
    "        train_loss.append(train_epoch_loss)\n",
    "        train_acc.append(train_acc_epoch)\n",
    "\n",
    "        val_loss.append(val_epoch_loss)\n",
    "        val_acc.append(val_acc_epoch)\n",
    "\n",
    "        print(f\"Train Loss: {train_epoch_loss:.4f}, Acc: {train_acc_epoch}\\n\")\n",
    "        print(f\"Val Loss: {val_epoch_loss:.4f}, Acc: {val_acc_epoch}\\n\")\n",
    "\n",
    "        if val_acc_epoch > best_acc:\n",
    "            best_acc = val_acc_epoch\n",
    "            best_model = copy.deepcopy(model.state_dict())\n",
    "\n",
    "        if epoch % plot_freq == 0:\n",
    "            plot(train_loss, val_loss, train_acc, val_acc)\n",
    "\n",
    "    plot(train_loss, val_loss, train_acc, val_acc)\n",
    "    model.load_state_dict(best_model)\n",
    "    return model"
   ],
   "metadata": {
    "collapsed": false
   }
  },
  {
   "cell_type": "code",
   "execution_count": null,
   "outputs": [],
   "source": [
    "device = torch.device(\"cuda\") if torch.cuda.is_available() else torch.device(\"cpu\")"
   ],
   "metadata": {
    "collapsed": false
   }
  },
  {
   "cell_type": "code",
   "execution_count": null,
   "outputs": [],
   "source": [
    "nir_net = models.resnet50()\n",
    "\n",
    "for param in nir_net.parameters():\n",
    "    param.requires_grad = True\n",
    "\n",
    "children_to_freeze = [nir_net.conv1, nir_net.layer1, nir_net.layer2]\n",
    "for child in children_to_freeze:\n",
    "    child.requires_grad_(False)\n",
    "\n",
    "nir_net.fc = nn.Sequential(\n",
    "    nn.Dropout(0.2),\n",
    "    nn.Linear(in_features=nir_net.fc.in_features, out_features=61),\n",
    ")\n",
    "nir_net.to(device)\n",
    "\n",
    "lr = 0.001\n",
    "epochs = 40\n",
    "batch_size = 25\n",
    "optimizer = torch.optim.Adam(nir_net.parameters(), lr=lr)\n",
    "criterion = nn.CrossEntropyLoss()\n",
    "\n",
    "train_loader = DataLoader(\n",
    "    nir_train_dataset,\n",
    "    batch_size=batch_size,\n",
    "    shuffle=True\n",
    ")\n",
    "\n",
    "val_loader = DataLoader(\n",
    "    nir_val_dataset,\n",
    "    batch_size=batch_size,\n",
    "    shuffle=False\n",
    ")\n",
    "\n",
    "nir_net = fit(nir_net, epochs, optimizer, criterion, train_loader, val_loader)"
   ],
   "metadata": {
    "collapsed": false
   }
  },
  {
   "cell_type": "code",
   "execution_count": null,
   "outputs": [],
   "source": [
    "inc_net = models.resnet50()\n",
    "\n",
    "for param in inc_net.parameters():\n",
    "    param.requires_grad = True\n",
    "\n",
    "children_to_freeze = [inc_net.conv1, inc_net.layer1]\n",
    "for child in children_to_freeze:\n",
    "    child.requires_grad_(False)\n",
    "\n",
    "inc_net.fc = nn.Sequential(\n",
    "    nn.Dropout(0.2),\n",
    "    nn.Linear(in_features=inc_net.fc.in_features, out_features=61),\n",
    ")\n",
    "inc_net.to(device)\n",
    "\n",
    "lr = 0.0001\n",
    "epochs = 40\n",
    "batch_size = 25\n",
    "optimizer = torch.optim.Adam(inc_net.parameters(), lr=lr)\n",
    "criterion = nn.CrossEntropyLoss()\n",
    "\n",
    "train_loader = DataLoader(\n",
    "    inc_train_dataset,\n",
    "    batch_size=batch_size,\n",
    "    shuffle=True\n",
    ")\n",
    "\n",
    "val_loader = DataLoader(\n",
    "    inc_val_dataset,\n",
    "    batch_size=batch_size,\n",
    "    shuffle=False\n",
    ")\n",
    "\n",
    "inc_net = fit(inc_net, epochs, optimizer, criterion, train_loader, val_loader)"
   ],
   "metadata": {
    "collapsed": false
   }
  },
  {
   "cell_type": "code",
   "execution_count": null,
   "outputs": [],
   "source": [
    "device = torch.device(\"cuda\") if torch.cuda.is_available() else torch.device(\"cpu\")\n",
    "\n",
    "cycle_gan_net = models.resnet50()\n",
    "\n",
    "for param in cycle_gan_net.parameters():\n",
    "    param.requires_grad = True\n",
    "\n",
    "children_to_freeze = [cycle_gan_net.conv1, cycle_gan_net.layer1, cycle_gan_net.layer2]\n",
    "for child in children_to_freeze:\n",
    "    child.requires_grad_(False)\n",
    "\n",
    "cycle_gan_net.fc = nn.Sequential(nn.Dropout(0.2), nn.Linear(in_features=cycle_gan_net.fc.in_features, out_features=61))\n",
    "cycle_gan_net.to(device)\n",
    "\n",
    "lr = 0.001\n",
    "epochs = 40\n",
    "batch_size = 25\n",
    "optimizer = torch.optim.Adam(cycle_gan_net.parameters(), lr=lr)\n",
    "criterion = nn.CrossEntropyLoss()\n",
    "\n",
    "train_loader = DataLoader(\n",
    "    cycle_gan_train_dataset,\n",
    "    batch_size=batch_size,\n",
    "    shuffle=True\n",
    ")\n",
    "\n",
    "val_loader = DataLoader(\n",
    "    cycle_gan_val_dataset,\n",
    "    batch_size=batch_size,\n",
    "    shuffle=False\n",
    ")\n",
    "\n",
    "cycle_gan_net = fit(cycle_gan_net, epochs, optimizer, criterion, train_loader, val_loader)"
   ],
   "metadata": {
    "collapsed": false
   }
  },
  {
   "cell_type": "code",
   "execution_count": null,
   "outputs": [],
   "source": [
    "device = torch.device(\"cuda\") if torch.cuda.is_available() else torch.device(\"cpu\")\n",
    "\n",
    "cut_net = models.resnet50()\n",
    "\n",
    "for param in cut_net.parameters():\n",
    "    param.requires_grad = True\n",
    "\n",
    "children_to_freeze = [cut_net.conv1, cut_net.layer1, cut_net.layer2]\n",
    "for child in children_to_freeze:\n",
    "    child.requires_grad_(False)\n",
    "\n",
    "cut_net.fc = nn.Sequential(nn.Dropout(0.2), nn.Linear(in_features=cut_net.fc.in_features, out_features=61))\n",
    "cut_net.to(device)\n",
    "\n",
    "lr = 0.001\n",
    "epochs = 40\n",
    "batch_size = 25\n",
    "optimizer = torch.optim.Adam(cut_net.parameters(), lr=lr)\n",
    "criterion = nn.CrossEntropyLoss()\n",
    "\n",
    "train_loader = DataLoader(\n",
    "    cut_train_dataset,\n",
    "    batch_size=batch_size,\n",
    "    shuffle=True\n",
    ")\n",
    "\n",
    "val_loader = DataLoader(\n",
    "    cut_val_dataset,\n",
    "    batch_size=batch_size,\n",
    "    shuffle=False\n",
    ")\n",
    "\n",
    "cut_net = fit(cut_net, epochs, optimizer, criterion, train_loader, val_loader)"
   ],
   "metadata": {
    "collapsed": false
   }
  },
  {
   "cell_type": "code",
   "execution_count": null,
   "outputs": [],
   "source": [
    "import numpy as np\n",
    "\n",
    "\n",
    "def test(model, test_loader, show_images=20):\n",
    "    model.eval()\n",
    "\n",
    "    running_acc = 0\n",
    "    total = 0\n",
    "    with torch.no_grad():\n",
    "        for counter, data in enumerate(test_loader):\n",
    "            image, target = data['image'].to(device), data['labels']\n",
    "            outputs = model(image).detach().cpu()\n",
    "            acc = accuracy(outputs, target)\n",
    "\n",
    "            prob = torch.softmax(outputs, dim=1)[0]\n",
    "            pred = torch.argmax(prob)\n",
    "\n",
    "            running_acc += acc\n",
    "\n",
    "            if total < show_images:\n",
    "                image = image.squeeze(0)\n",
    "                image = image.detach().cpu().numpy()\n",
    "                image = np.transpose(image, (1, 2, 0))\n",
    "                plt.imshow(image)\n",
    "                plt.axis('off')\n",
    "                plt.title(f\"PREDICTED: {pred}\\nACTUAL: {target.item()} ({prob[pred]})\")\n",
    "                plt.show()\n",
    "\n",
    "            total += 1\n",
    "\n",
    "    return running_acc / total"
   ],
   "metadata": {
    "collapsed": false
   }
  },
  {
   "cell_type": "code",
   "execution_count": null,
   "outputs": [],
   "source": [
    "test_loader = DataLoader(nir_test_dataset, batch_size=1, shuffle=False)\n",
    "test(nir_net, test_loader, show_images=3)"
   ],
   "metadata": {
    "collapsed": false
   }
  },
  {
   "cell_type": "code",
   "execution_count": null,
   "outputs": [],
   "source": [
    "test_loader = DataLoader(inc_test_dataset, batch_size=1, shuffle=False)\n",
    "test(inc_net, test_loader, show_images=3)"
   ],
   "metadata": {
    "collapsed": false
   }
  },
  {
   "cell_type": "code",
   "execution_count": null,
   "outputs": [],
   "source": [
    "cycle_gan_test_loader = DataLoader(cycle_gan_test_dataset, batch_size=1, shuffle=False)\n",
    "test(cycle_gan_net, cycle_gan_test_loader, show_images=3)"
   ],
   "metadata": {
    "collapsed": false
   }
  },
  {
   "cell_type": "code",
   "execution_count": null,
   "outputs": [],
   "source": [
    "cut_test_loader = DataLoader(cut_test_dataset, batch_size=1, shuffle=False)\n",
    "test(cut_net, cut_test_loader, show_images=3)"
   ],
   "metadata": {
    "collapsed": false
   }
  },
  {
   "cell_type": "code",
   "execution_count": null,
   "outputs": [],
   "source": [
    "def test_assemble(model1, model2, test_loader1, test_loader_2, show_images=20):\n",
    "    model1.eval()\n",
    "    model2.eval()\n",
    "\n",
    "    running_acc = 0\n",
    "    total = 0\n",
    "    with torch.no_grad():\n",
    "        for _, (data1, data2) in enumerate(zip(test_loader1, test_loader_2)):\n",
    "            image1, target1 = data1['image'].to(device), data1['labels']\n",
    "            outputs1 = model1(image1).detach().cpu()\n",
    "            prob1 = torch.softmax(outputs1, dim=1)[0]\n",
    "            pred1 = torch.argmax(prob1)\n",
    "\n",
    "            image2, target2 = data2['image'].to(device), data2['labels']\n",
    "            outputs2 = model2(image2).detach().cpu()\n",
    "            prob2 = torch.softmax(outputs2, dim=1)[0]\n",
    "            pred2 = torch.argmax(prob2)\n",
    "\n",
    "            if prob2[pred2] > prob1[pred1]:\n",
    "                pred = pred2\n",
    "            else:\n",
    "                pred = pred1\n",
    "\n",
    "            if pred == target1:\n",
    "                running_acc += 1\n",
    "\n",
    "            if total < show_images:\n",
    "                image2 = image2.squeeze(0)\n",
    "                image2 = image2.detach().cpu().numpy()\n",
    "                image2 = np.transpose(image2, (1, 2, 0))\n",
    "                plt.imshow(image2)\n",
    "                plt.axis('off')\n",
    "                plt.title(f\"PREDICTED: {pred}\\nACTUAL: {target1.item()} ({prob1[pred1]}, {prob2[pred2]})\")\n",
    "                plt.show()\n",
    "\n",
    "            total += 1\n",
    "\n",
    "    return running_acc / total"
   ],
   "metadata": {
    "collapsed": false
   }
  },
  {
   "cell_type": "code",
   "execution_count": null,
   "outputs": [],
   "source": [
    "nir_test_loader = DataLoader(nir_test_dataset, batch_size=1, shuffle=False)\n",
    "cycle_gan_test_loader = DataLoader(cycle_gan_test_dataset, batch_size=1, shuffle=False)\n",
    "\n",
    "test_assemble(nir_net, cycle_gan_net, nir_test_loader, cycle_gan_test_loader, show_images=3)"
   ],
   "metadata": {
    "collapsed": false
   }
  }
 ],
 "metadata": {
  "kernelspec": {
   "display_name": "Python 3",
   "language": "python",
   "name": "python3"
  },
  "language_info": {
   "codemirror_mode": {
    "name": "ipython",
    "version": 2
   },
   "file_extension": ".py",
   "mimetype": "text/x-python",
   "name": "python",
   "nbconvert_exporter": "python",
   "pygments_lexer": "ipython2",
   "version": "2.7.6"
  }
 },
 "nbformat": 4,
 "nbformat_minor": 0
}
