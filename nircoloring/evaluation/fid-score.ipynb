{
 "cells": [
  {
   "cell_type": "code",
   "execution_count": null,
   "metadata": {},
   "outputs": [],
   "source": [
    "from config import CALTECH_GRAY_DATASET_OUT, CALTECH_NIR_DATASET_OUT\n",
    "%flow mode reactive\n",
    "\n",
    "import pathlib\n",
    "from os.path import join\n",
    "from pathlib import PosixPath, Path\n",
    "from typing import List\n",
    "\n",
    "import matplotlib.pyplot as plt\n",
    "import numpy as np\n",
    "import pandas as pd\n",
    "import seaborn as sns\n",
    "from PIL import Image\n",
    "\n",
    "from kornia.filters import sobel\n",
    "from nircoloring.evaluation.fid import calculate_fid_from_images, NumpyDataset\n",
    "\n",
    "sns.set_theme()"
   ]
  },
  {
   "cell_type": "code",
   "execution_count": null,
   "metadata": {},
   "outputs": [],
   "source": [
    "def is_image_file(file: PosixPath):\n",
    "    if not file.is_file():\n",
    "        return False\n",
    "\n",
    "    lowercase_filename = file.name.lower()\n",
    "    return lowercase_filename.endswith(\".jpg\") or lowercase_filename.endswith(\".png\")\n",
    "\n",
    "\n",
    "def list_image_files_from_directory(directory, matcher=\"*\") -> list[str]:\n",
    "    path = pathlib.Path(directory)\n",
    "    all_filenames = path.glob(matcher)\n",
    "    all_image_filenames = filter(is_image_file, all_filenames)\n",
    "    return sorted(list(all_image_filenames))\n",
    "\n",
    "\n",
    "def load_images(all_image_filenames, load_size) -> list[np.array]:\n",
    "    def read_image(filename):\n",
    "        image = Image.open(filename)\n",
    "        image.thumbnail(load_size, Image.Resampling.LANCZOS)\n",
    "        image = np.asarray(image)\n",
    "        return image\n",
    "\n",
    "    all_images = map(read_image, all_image_filenames)\n",
    "    return list(all_images)\n",
    "\n",
    "\n",
    "def load_npz_images(file, load_size) -> list[np.array]:\n",
    "    images = []\n",
    "    for image in np.load(file)[\"arr_0\"]:\n",
    "        pil_image = Image.fromarray(image)\n",
    "        pil_image.thumbnail(load_size, Image.Resampling.LANCZOS)\n",
    "        resized_image = np.array(pil_image)\n",
    "\n",
    "        images.append(resized_image)\n",
    "\n",
    "    return images\n",
    "\n",
    "\n",
    "class Result:\n",
    "    def __init__(self, directory, title, load_size=(64, 64), filename_matcher=\"*\"):\n",
    "        self.title = title\n",
    "        self.directory = directory\n",
    "        self.image_filenames = list_image_files_from_directory(directory, filename_matcher)\n",
    "        self.images = None\n",
    "        self.fid = None\n",
    "        self.load_size = load_size\n",
    "\n",
    "    def load_images(self) -> List[np.array]:\n",
    "        if self.images is not None:\n",
    "            return self.images\n",
    "\n",
    "        self.images = load_images(self.image_filenames, self.load_size)\n",
    "\n",
    "        return self.images\n",
    "\n",
    "\n",
    "class EvaluationResult(Result):\n",
    "    def __init__(self, directory, title, fid_reference: Result, **args):\n",
    "        super().__init__(directory, title, **args)\n",
    "        self.fid_reference = fid_reference\n",
    "        self.fid = None\n",
    "\n",
    "    def load_fid(self):\n",
    "        if self.fid is not None:\n",
    "            return self.fid\n",
    "\n",
    "        self.fid = calculate_fid_from_images(\n",
    "            self.directory, self.load_images(),\n",
    "            self.fid_reference.directory, self.fid_reference.load_images()\n",
    "        )\n",
    "\n",
    "        return self.fid\n",
    "\n",
    "\n",
    "class NpzEvaluationResult(EvaluationResult):\n",
    "    def __init__(self, file, **args):\n",
    "        parent_dir = Path(file).parent.absolute()\n",
    "        self.file = file\n",
    "        super().__init__(parent_dir, **args)\n",
    "\n",
    "    def load_images(self) -> List[np.array]:\n",
    "        if self.images is not None:\n",
    "            return self.images\n",
    "\n",
    "        self.images = load_npz_images(self.file, self.load_size)\n",
    "\n",
    "        return self.images"
   ]
  },
  {
   "cell_type": "code",
   "execution_count": null,
   "metadata": {},
   "outputs": [],
   "source": [
    "def plot_grid(results_to_plot: list[Result], columns, rows=4, column_titles=None):\n",
    "    image_count_to_plot = min(columns * rows, len(results_to_plot[0].load_images()))\n",
    "\n",
    "    column_size = len(results_to_plot)\n",
    "\n",
    "    image_columns = column_size * columns\n",
    "\n",
    "    fig, axes = plt.subplots(nrows=rows, ncols=image_columns, figsize=(image_columns * 2, rows * 2))\n",
    "\n",
    "    axes_matrix = axes.reshape((rows * columns, column_size)).T\n",
    "\n",
    "    for result, column_axis in zip(results_to_plot, axes_matrix):\n",
    "        for image, ax in zip(result.load_images()[:image_count_to_plot], column_axis):\n",
    "            if len(image.shape) == 2:\n",
    "                ax.imshow(image, cmap='gray')\n",
    "            else:\n",
    "                ax.imshow(image)\n",
    "\n",
    "            ax.axis('off')\n",
    "            ax.set_xticklabels([])\n",
    "            ax.set_yticklabels([])\n",
    "\n",
    "    if column_titles is None:\n",
    "        column_titles = [result.title for result in results_to_plot]\n",
    "\n",
    "    assert len(column_titles) == column_size\n",
    "\n",
    "    for title, ax in zip(column_titles * columns, axes[0]):\n",
    "        ax.set_title(title)\n",
    "\n",
    "    plt.subplots_adjust(wspace=0, hspace=0)\n",
    "    plt.show()"
   ]
  },
  {
   "cell_type": "code",
   "execution_count": null,
   "metadata": {},
   "outputs": [],
   "source": [
    "def plot_diff_heatmap(first: Result, second: Result, columns, rows=4, column_titles=None, cbar_with = 0.08, intensity=False, title=None):\n",
    "    image_count_to_plot = min(columns * rows, len(first.load_images()))\n",
    "    column_size = 3\n",
    "\n",
    "    image_columns = column_size * columns\n",
    "\n",
    "    fig, axes = plt.subplots(nrows=rows, ncols=image_columns + 1, figsize=(image_columns * 2 + cbar_with, rows * 2 + 0.5), gridspec_kw={'width_ratios': [1.] * image_columns + [cbar_with]})\n",
    "\n",
    "    fig.suptitle(title)\n",
    "    cbar_axes = axes[:, -1]\n",
    "\n",
    "    axes_matrix = axes[: , :image_columns].reshape((rows * columns, column_size)).T\n",
    "\n",
    "    for image, ax in zip(first.load_images()[:image_count_to_plot], axes_matrix[0]):\n",
    "        if len(image.shape) == 2:\n",
    "            ax.imshow(image, cmap='gray')\n",
    "        else:\n",
    "            ax.imshow(image)\n",
    "\n",
    "        ax.axis('off')\n",
    "        ax.set_xticklabels([])\n",
    "        ax.set_yticklabels([])\n",
    "\n",
    "    for image, ax in zip(second.load_images()[:image_count_to_plot], axes_matrix[1]):\n",
    "        if len(image.shape) == 2:\n",
    "            ax.imshow(image, cmap='gray')\n",
    "        else:\n",
    "            ax.imshow(image)\n",
    "\n",
    "        ax.axis('off')\n",
    "        ax.set_xticklabels([])\n",
    "        ax.set_yticklabels([])\n",
    "\n",
    "\n",
    "    first_images = np.array(first.load_images()[:image_count_to_plot])\n",
    "    second_images = np.array(second.load_images()[:image_count_to_plot])\n",
    "\n",
    "    if intensity:\n",
    "        first_images = np.average(first_images, axis=3)\n",
    "        second_images = np.average(second_images, axis=3)\n",
    "\n",
    "    images_diff = first_images - second_images\n",
    "    images_diff = np.abs(images_diff)\n",
    "\n",
    "    if not intensity:\n",
    "        images_diff = np.sum(images_diff, axis=3)\n",
    "\n",
    "    vmin = np.min(images_diff)\n",
    "    vmax = np.percentile(images_diff, 99.9) #np.max(images_diff)\n",
    "\n",
    "    for i, (diff, ax) in enumerate(zip(images_diff, axes_matrix[2])):\n",
    "        is_last_column = (i % columns == columns - 1)\n",
    "        current_cbar = cbar_axes[int(i / columns)]\n",
    "\n",
    "        sns.heatmap(diff, ax=ax, vmin=vmin, vmax=vmax, cbar=is_last_column, cbar_ax=current_cbar, square=True)\n",
    "        ax.axis('off')\n",
    "        ax.set_xticklabels([])\n",
    "        ax.set_yticklabels([])\n",
    "\n",
    "    if column_titles is None:\n",
    "        column_titles = [first.title, second.title, \"Diff\"]\n",
    "\n",
    "    assert len(column_titles) == column_size\n",
    "\n",
    "    for title, ax in zip(column_titles * columns, axes[0]):\n",
    "        ax.set_title(title)\n",
    "\n",
    "    plt.show()"
   ]
  },
  {
   "cell_type": "code",
   "execution_count": null,
   "metadata": {},
   "outputs": [],
   "source": [
    "def result_fid_to_df(results_to_plot: list[EvaluationResult]):\n",
    "    data = {\n",
    "        \"FID\": [result.load_fid() for result in results_to_plot]\n",
    "    }\n",
    "    return pd.DataFrame(data, index=[result.title for result in results_to_plot])\n",
    "\n",
    "\n",
    "def plot_fid_bars(df):\n",
    "    df.plot.bar()\n",
    "    plt.xticks(rotation=30, ha='right')"
   ]
  },
  {
   "cell_type": "code",
   "execution_count": null,
   "metadata": {},
   "outputs": [],
   "source": [
    "ROOT_DIR = \"../../\"\n",
    "EGSDE_RUNS_BASE_PATH = join(ROOT_DIR, \"../EGSDE/runs/nir2rgb/\")\n",
    "SERENGETI_NIR_INCANDESCENT_DATASET = join(ROOT_DIR, \"cycle-gan/datasets/serengeti-incandescent/\")\n",
    "\n",
    "nirReference = Result(join(SERENGETI_NIR_INCANDESCENT_DATASET, \"testA\"), \"NIR\")\n",
    "nirReference_128x128 = Result(join(SERENGETI_NIR_INCANDESCENT_DATASET, \"testA\"), \"NIR\", load_size=(128, 128))\n",
    "rgbReference = Result(join(SERENGETI_NIR_INCANDESCENT_DATASET, \"testB\"), \"RGB\")\n",
    "rgbReference_128x128 = Result(join(SERENGETI_NIR_INCANDESCENT_DATASET, \"testB\"), \"RGB\", load_size=(128, 128))\n",
    "caltech_gray_rgbReference_128x128 = Result(join(CALTECH_GRAY_DATASET_OUT, \"testB\"), \"RGB\", load_size=(128, 128))\n",
    "caltech_gray_grayReference_128x128 = Result(join(CALTECH_GRAY_DATASET_OUT, \"testA\"), \"RGB\", load_size=(128, 128))\n",
    "caltech_nir_nirReference_128x128 = Result(join(CALTECH_NIR_DATASET_OUT, \"testA\"), \"NIR\", load_size=(128, 128))\n",
    "caltech_nir_rgbReference_128x128 = Result(join(CALTECH_NIR_DATASET_OUT, \"testB\"), \"RGB\", load_size=(128, 128))\n",
    "\n",
    "downN_00 = EvaluationResult(join(EGSDE_RUNS_BASE_PATH, \"downN_00\"), \"$\\mathrm{downN}=0$\", fid_reference=rgbReference)\n",
    "downN_02 = EvaluationResult(join(EGSDE_RUNS_BASE_PATH, \"downN_02\"), \"$\\mathrm{downN}=2$\", fid_reference=rgbReference)\n",
    "downN_32 = EvaluationResult(join(EGSDE_RUNS_BASE_PATH, \"downN_32\"), \"$\\mathrm{downN}=32$\", fid_reference=rgbReference)\n",
    "li_0 = EvaluationResult(join(EGSDE_RUNS_BASE_PATH, \"li_0\"), \"$\\lambda_i=0$\", fid_reference=rgbReference)\n",
    "ls_0_li_0 = EvaluationResult(join(EGSDE_RUNS_BASE_PATH, \"ls_0_li_0\"), \"$\\lambda_i=0, \\lambda_s=0$\",\n",
    "                             fid_reference=rgbReference)\n",
    "ls_0_li_500 = EvaluationResult(join(EGSDE_RUNS_BASE_PATH, \"ls_0_li_500\"), \"$\\lambda_i=500, \\lambda_s=0$\",\n",
    "                               fid_reference=rgbReference)\n",
    "initial_random = EvaluationResult(join(EGSDE_RUNS_BASE_PATH, \"initial_random\"),\n",
    "                                  \"$t=500, y \\sim \\mathcal{N}(0,\\mathbf{I})$\", fid_reference=rgbReference)\n",
    "initial_random_li_0_ls_0 = EvaluationResult(join(EGSDE_RUNS_BASE_PATH, \"initial_random_li_0_ls_0\"),\n",
    "                                            \"$t=500$\\n$y \\sim \\mathcal{N}(0,\\mathbf{I})$\\n$\\lambda_i=0, \\lambda_s=0$\",\n",
    "                                            fid_reference=rgbReference)\n",
    "initial_random_li_0_ls_0_t_4000 = EvaluationResult(join(EGSDE_RUNS_BASE_PATH, \"initial_random_li_0_ls_0_t_4000\"),\n",
    "                                                   \"$t=4000$\\n$y \\sim \\mathcal{N}(0,\\mathbf{I})$\\n$\\lambda_i=0, \\lambda_s=0$\",\n",
    "                                                   fid_reference=rgbReference)\n",
    "t4000 = EvaluationResult(join(EGSDE_RUNS_BASE_PATH, \"initial_random_li_0_ls_0_t_4000\"), \"$t=4000$\",\n",
    "                         fid_reference=rgbReference)\n",
    "\n",
    "highpass_t_2000 = EvaluationResult(join(EGSDE_RUNS_BASE_PATH, \"highpass_t_2000_li_02\"),\n",
    "                                   \"$t=2000, \\lambda_i=2$,\\n Highpass\",\n",
    "                                   fid_reference=rgbReference)\n",
    "\n",
    "highpass_t_2000_li_500 = EvaluationResult(join(EGSDE_RUNS_BASE_PATH, \"highpass_t_2000_li_500\"),\n",
    "                                          \"$t=2000, \\lambda_i=500$,\\n Highpass\", fid_reference=rgbReference)\n",
    "highpass_t_2000_li_120 = EvaluationResult(join(EGSDE_RUNS_BASE_PATH, \"highpass_t_2000_li_120\"),\n",
    "                                          \"$t=2000, \\lambda_i=120$,\\n Highpass\", fid_reference=rgbReference)\n",
    "highpass_t_2000_li_120_ls_0 = EvaluationResult(join(EGSDE_RUNS_BASE_PATH, \"highpass_t_2000_li_120_ls_0\"),\n",
    "                                               \"$t=2000$\\n$\\lambda_i=120, \\lambda_s=0$,\\n Highpass\",\n",
    "                                               fid_reference=rgbReference)\n",
    "highpass_mean_t_2000_li_120_ls_0 = EvaluationResult(join(EGSDE_RUNS_BASE_PATH, \"highpass_mean_t_2000_li_120_ls_0\"),\n",
    "                                                    \"$t=2000$\\n$\\lambda_i=120, \\lambda_s=0$,\\n Highpass & Mean\",\n",
    "                                                    fid_reference=rgbReference)\n",
    "highpass_mean_t_2000_li_500_ls_0 = EvaluationResult(join(EGSDE_RUNS_BASE_PATH, \"highpass_mean_t_2000_li_500_ls_0\"),\n",
    "                                                    \"$t=2000$\\n$\\lambda_i=500, \\lambda_s=0$,\\n Highpass & Mean\",\n",
    "                                                    fid_reference=rgbReference)\n",
    "mean_t_2000_li_500_ls_0 = EvaluationResult(join(EGSDE_RUNS_BASE_PATH, \"mean_t_2000_li_500_ls_0\"),\n",
    "                                           \"$t=2000$\\n$\\lambda_i=500, \\lambda_s=0$,\\n Mean\",\n",
    "                                           fid_reference=rgbReference)\n",
    "\n",
    "downN_0_li_10_t_2000 = EvaluationResult(join(EGSDE_RUNS_BASE_PATH, \"downN_0_li_10_t_2000\"),\n",
    "                                        \"$t=2000, \\lambda_i=10$,\\n Identity\", fid_reference=rgbReference)\n",
    "\n",
    "highpass_li_120_t_500_0_128x128 = EvaluationResult(join(EGSDE_RUNS_BASE_PATH, \"128x128_highpass_li_120_t_500_0\"),\n",
    "                                                   \"128x128, \\n$t=500, \\lambda_i=120$, \\n0\",\n",
    "                                                   fid_reference=rgbReference_128x128, load_size=(128, 128))\n",
    "\n",
    "highpass_li_120_t_500_1_128x128 = EvaluationResult(join(EGSDE_RUNS_BASE_PATH, \"128x128_highpass_li_120_t_500_1\"),\n",
    "                                                   \"128x128, \\n$t=500, \\lambda_i=120$, \\n1\",\n",
    "                                                   fid_reference=rgbReference_128x128, load_size=(128, 128))\n",
    "\n",
    "highpass_li_120_t_600_0_128x128 = EvaluationResult(join(EGSDE_RUNS_BASE_PATH, \"128x128_highpass_li_120_t_600_0\"),\n",
    "                                                   \"128x128, \\n$t=600, \\lambda_i=120$, \\n0\",\n",
    "                                                   fid_reference=rgbReference_128x128, load_size=(128, 128))\n",
    "\n",
    "highpass_li_120_t_600_1_128x128 = EvaluationResult(join(EGSDE_RUNS_BASE_PATH, \"128x128_highpass_li_120_t_600_1\"),\n",
    "                                                   \"128x128, \\n$t=600, \\lambda_i=120$, \\n1\",\n",
    "                                                   fid_reference=rgbReference_128x128, load_size=(128, 128))\n",
    "\n",
    "highpass_li_1000_t_500_log_0_128x128 = EvaluationResult(\n",
    "    join(EGSDE_RUNS_BASE_PATH, \"128x128_highpass_li_1000_t_500_log_0\"),\n",
    "    \"128x128, \\n$t=500, \\lambda_i=1000$, \\nlog, 0\", fid_reference=rgbReference_128x128, load_size=(128, 128))\n",
    "\n",
    "highpass_li_1000_t_500_log_1_128x128 = EvaluationResult(\n",
    "    join(EGSDE_RUNS_BASE_PATH, \"128x128_highpass_li_1000_t_500_log_1\"),\n",
    "    \"128x128, \\n$t=500, \\lambda_i=1000$, \\nlog, 1\", fid_reference=rgbReference_128x128, load_size=(128, 128))\n",
    "\n",
    "mean_li_120_t_500_128x128 = EvaluationResult(\n",
    "    join(EGSDE_RUNS_BASE_PATH, \"128x128_mean_li_120_t_500\"),\n",
    "    \"128x128, \\n$t=500, \\lambda_i=120$, \\n Mean\", fid_reference=rgbReference_128x128, load_size=(128, 128))\n",
    "\n",
    "mean_li_120_t_500_128x128_png = EvaluationResult(\n",
    "    join(EGSDE_RUNS_BASE_PATH, \"128x128_mean_li_120_t_500_png\"),\n",
    "    \"128x128, \\n$t=500, \\lambda_i=120$, \\n Mean\", fid_reference=rgbReference_128x128, load_size=(128, 128))\n",
    "\n",
    "mean_lin_li_120_t_500_128x128 = EvaluationResult(\n",
    "    join(EGSDE_RUNS_BASE_PATH, \"128x128_mean_lin_li_120_t_500\"),\n",
    "    \"128x128, \\n$t=500, \\lambda_i=120$, \\n Mean $\\downarrow$\", fid_reference=rgbReference_128x128, load_size=(128, 128))\n",
    "\n",
    "mean_highpass_li_170_t_850_128x128 = EvaluationResult(join(EGSDE_RUNS_BASE_PATH, \"128x128_mean_highpass_li_170_t_850\"),\n",
    "                                                      \"128x128, \\n$t=850, \\lambda_i=170$, \\nHighpass $\\leftarrow$ Mean\",\n",
    "                                                      fid_reference=rgbReference_128x128, load_size=(128, 128))\n",
    "\n",
    "t_1000_random_start_128x128 = EvaluationResult(join(EGSDE_RUNS_BASE_PATH, \"128x128_t_1000_random_start\"),\n",
    "                                               \"128x128, Unconditional\", fid_reference=rgbReference_128x128,\n",
    "                                               load_size=(128, 128))\n",
    "\n",
    "t_1000_random_start_240_128x128 = EvaluationResult(join(EGSDE_RUNS_BASE_PATH, \"128x128_t_1000_random_start_240\"),\n",
    "                                                   \"128x128, Unconditional\", fid_reference=rgbReference_128x128,\n",
    "                                                   load_size=(128, 128))\n",
    "\n",
    "t_1000_random_start_240_gd_thv_128x128 = EvaluationResult(\n",
    "    join(EGSDE_RUNS_BASE_PATH, \"128x128_t_1000_random_start_240_gd\"),\n",
    "    \"128x128, Unconditional, THV\", fid_reference=rgbReference_128x128,\n",
    "    load_size=(128, 128))\n",
    "\n",
    "t_1000_random_start_240_png_128x128 = EvaluationResult(\n",
    "    join(EGSDE_RUNS_BASE_PATH, \"128x128_t_1000_random_start_240_png\"),\n",
    "    \"128x128, Unconditional, PNG\", fid_reference=rgbReference_128x128,\n",
    "    load_size=(128, 128))\n",
    "\n",
    "t_1000_random_start_240_randlike_128x128 = EvaluationResult(\n",
    "    join(EGSDE_RUNS_BASE_PATH, \"128x128_t_1000_random_start_240_randlike\"),\n",
    "    \"128x128, Unconditional\\n randlike\", fid_reference=rgbReference_128x128,\n",
    "    load_size=(128, 128))\n",
    "\n",
    "nir_out = EvaluationResult(\n",
    "    join(EGSDE_RUNS_BASE_PATH, \"nir_out\"),\n",
    "    \"NIR Sampled\", fid_reference=nirReference_128x128,\n",
    "    load_size=(128, 128)\n",
    ")\n",
    "\n",
    "learn_sigma_out = EvaluationResult(\n",
    "    join(EGSDE_RUNS_BASE_PATH, \"learn_sigma_out\"),\n",
    "    \"RGB Sampled (with learn_sigma)\", fid_reference=rgbReference_128x128,\n",
    "    load_size=(128, 128)\n",
    ")\n",
    "\n",
    "sc_default = EvaluationResult(\n",
    "    \"../../../ilvr_adm/output/default\",\n",
    "    \"SC Default\", fid_reference=rgbReference_128x128,\n",
    "    load_size=(128, 128)\n",
    ")\n",
    "\n",
    "sc_alternative_matrix = EvaluationResult(\n",
    "    \"../../../ilvr_adm/output/colorize_nir_matrix_alternative\",\n",
    "    \"SC Alternative Matrix\", fid_reference=rgbReference_128x128,\n",
    "    load_size=(128, 128)\n",
    ")\n",
    "\n",
    "sc_alternative_matrix_mask = EvaluationResult(\n",
    "    \"../../../ilvr_adm/output/colorize_nir_matrix_alternative_mask\",\n",
    "    \"SC Alt Matrix\\n+ Mask\", fid_reference=rgbReference_128x128,\n",
    "    load_size=(128, 128)\n",
    ")\n",
    "\n",
    "sc_approx_matrix = EvaluationResult(\n",
    "    \"../../../ilvr_adm/output/colorize_nir_approx_matrix\",\n",
    "    \"SC NIR Approx\", fid_reference=rgbReference_128x128,\n",
    "    load_size=(128, 128)\n",
    ")\n",
    "\n",
    "sc_repaint = EvaluationResult(\n",
    "    \"../../../ilvr_adm/output/colorize_nir_repaint\",\n",
    "    \"SC Repaint\", fid_reference=rgbReference_128x128,\n",
    "    load_size=(128, 128)\n",
    ")\n",
    "sc_repaint_u_10 = EvaluationResult(\n",
    "    \"../../../ilvr_adm/output/colorize_nir_repaint_u_10\",\n",
    "    \"SC Repaint $U=10$\", fid_reference=rgbReference_128x128,\n",
    "    load_size=(128, 128)\n",
    ")\n",
    "sc_repaint_schedule = EvaluationResult(\n",
    "    \"../../../ilvr_adm/output/colorize_nir_repaint_schedule\",\n",
    "    \"SC Repaint Schedule\", fid_reference=rgbReference_128x128,\n",
    "    load_size=(128, 128)\n",
    ")\n",
    "sc_repaint_schedule_opt = EvaluationResult(\n",
    "    \"../../../ilvr_adm/output/colorize_nir_repaint_schedule_opt\",\n",
    "    \"SC Repaint Schedule Opt\", fid_reference=rgbReference_128x128,\n",
    "    load_size=(128, 128)\n",
    ")\n",
    "sc_mask_lin_dec = EvaluationResult(\n",
    "    \"../../../ilvr_adm/output/colorize_nir_mask_lin_dec\",\n",
    "    \"SC Mask Linear Dec\", fid_reference=rgbReference_128x128,\n",
    "    load_size=(128, 128)\n",
    ")\n",
    "\n",
    "sc_two_step_test = EvaluationResult(\n",
    "    \"../../../ilvr_adm/output/colorize_nir_two_step_test\",\n",
    "    \"SC Two Step Test\", fid_reference=rgbReference_128x128,\n",
    "    load_size=(128, 128)\n",
    ")\n",
    "\n",
    "sc_two_step = EvaluationResult(\n",
    "    \"../../../ilvr_adm/output/colorize_nir_two_step\",\n",
    "    \"SC Two Step\", fid_reference=rgbReference_128x128,\n",
    "    load_size=(128, 128)\n",
    ")\n",
    "\n",
    "sc_hsv = EvaluationResult(\n",
    "    \"../../../ilvr_adm/output/colorize_nir_hsv\",\n",
    "    \"SC HSV\", fid_reference=rgbReference_128x128,\n",
    "    load_size=(128, 128)\n",
    ")\n",
    "sc_lab = EvaluationResult(\n",
    "    \"../../../ilvr_adm/output/colorize_nir_lab\",\n",
    "    \"SC LAB\", fid_reference=rgbReference_128x128,\n",
    "    load_size=(128, 128)\n",
    ")\n",
    "sc_cycle_gan = EvaluationResult(\n",
    "    \"../../../ilvr_adm/output/colorize_cycle_gan\",\n",
    "    \"SC Cycle GAN\", fid_reference=rgbReference_128x128,\n",
    "    load_size=(128, 128)\n",
    ")\n",
    "sc_cycle_gan_lab = EvaluationResult(\n",
    "    \"../../../ilvr_adm/output/colorize_cycle_gan_lab\",\n",
    "    \"SC Cycle GAN\", fid_reference=rgbReference_128x128,\n",
    "    load_size=(128, 128)\n",
    ")\n",
    "\n",
    "caltech_nir_sc_approx_matrix = EvaluationResult(\n",
    "    \"../../../ilvr_adm/output/colorize_nir_approx_matrix_caltech\",\n",
    "    \"Diffusion Caltech 200000\", fid_reference=rgbReference_128x128,\n",
    "    load_size=(128, 128)\n",
    ")\n",
    "\n",
    "caltech_nir_sc_approx_matrix_150000 = EvaluationResult(\n",
    "    \"../../../ilvr_adm/output/colorize_nir_approx_matrix_caltech_150000\",\n",
    "    \"Diffusion Caltech 150000\", fid_reference=rgbReference_128x128,\n",
    "    load_size=(128, 128)\n",
    ")\n",
    "\n",
    "caltech_gray_128x128_mean_li_120 = EvaluationResult(\n",
    "    join(EGSDE_RUNS_BASE_PATH, \"caltech_gray_128x128_mean_li_120\"), load_size=(128, 128),\n",
    "    fid_reference=caltech_gray_rgbReference_128x128, title=\"Caltech Gray Diffusion\")\n",
    "\n",
    "cycle_gan = EvaluationResult(\"../../cycle-gan/results/cycle_gan_serengeti_inc_0_000015_0_000045/test_200/images\",\n",
    "                             \"CycleGAN\", fid_reference=rgbReference, filename_matcher=\"*_fake.png\")\n",
    "\n",
    "cycle_gan_128x128 = EvaluationResult(\n",
    "    \"../../cycle-gan/results/cycle_gan_serengeti_inc_0_000015_0_000045/test_200/images\",\n",
    "    \"CycleGAN\", fid_reference=rgbReference_128x128, filename_matcher=\"*_fake.png\", load_size=(128, 128))\n",
    "\n",
    "caltech_nir_cycle_gan_128x128 = EvaluationResult(\n",
    "    \"../../cycle-gan/results/nir_cyclegan_unet_ralsgan_sampling_ssim_ttur_2_cyc_spectral_normalization_reduced_cycle_detach/test_200/images\",\n",
    "    \"CycleGAN\", fid_reference=rgbReference_128x128, filename_matcher=\"*_fake.png\", load_size=(128, 128))\n",
    "\n",
    "caltech_gray_cycle_gan_128x128 = EvaluationResult(\n",
    "    \"../../cycle-gan/results/gray_cycle_gan/test_200/images\",\n",
    "    \"Caltech Gray CycleGAN\", fid_reference=caltech_gray_rgbReference_128x128, filename_matcher=\"*_fake.png\",\n",
    "    load_size=(128, 128))\n",
    "\n",
    "t_1000_random_start_240_gd_128x128 = NpzEvaluationResult(\n",
    "    \"../../../guided-diffusion/samples/128x128/samples_250x128x128x3.npz\", load_size=(128, 128),\n",
    "    fid_reference=rgbReference_128x128, title=\"128x128, Unconditional, GD\")\n",
    "\n",
    "caltech_nir_gd = NpzEvaluationResult(\n",
    "    \"../../../guided-diffusion/samples/128x128/caltech_samples_250_128x128x3.npz\", load_size=(128, 128),\n",
    "    fid_reference=caltech_nir_rgbReference_128x128, title=\"Unconditional Caltech GD\")"
   ]
  },
  {
   "cell_type": "code",
   "execution_count": null,
   "outputs": [],
   "source": [
    "plot_grid([caltech_nir_gd, caltech_nir_rgbReference_128x128], columns=4, column_titles=[\"Guided Diffusion\", \"Caltech RGB\"])"
   ],
   "metadata": {
    "collapsed": false
   }
  },
  {
   "cell_type": "code",
   "execution_count": null,
   "outputs": [],
   "source": [
    "result_fid_to_df([caltech_nir_gd])"
   ],
   "metadata": {
    "collapsed": false
   }
  },
  {
   "cell_type": "code",
   "execution_count": null,
   "outputs": [],
   "source": [
    "plot_grid([caltech_nir_nirReference_128x128, caltech_nir_cycle_gan_128x128, caltech_nir_sc_approx_matrix, caltech_nir_sc_approx_matrix_150000], columns=4, rows=5, column_titles=[\"NIR\", \"CycleGAN\", \"Diffusion\", \"Diffusion 15000\"])"
   ],
   "metadata": {
    "collapsed": false
   }
  },
  {
   "cell_type": "code",
   "execution_count": null,
   "outputs": [],
   "source": [
    "result_fid_to_df([caltech_nir_cycle_gan_128x128, caltech_nir_sc_approx_matrix, caltech_nir_sc_approx_matrix_150000])"
   ],
   "metadata": {
    "collapsed": false
   }
  },
  {
   "cell_type": "code",
   "execution_count": null,
   "metadata": {},
   "outputs": [],
   "source": [
    "plot_grid([nirReference_128x128, cycle_gan_128x128, sc_cycle_gan, sc_approx_matrix], columns=1,rows=3, column_titles=[\"NIR\", \"CycleGAN\", \"Diffusion\\nCycleGAN Input\", \"Diffusion\\nNIR Input\"])"
   ]
  },
  {
   "cell_type": "code",
   "execution_count": null,
   "metadata": {},
   "outputs": [],
   "source": [
    "result_fid_to_df([cycle_gan_128x128, sc_cycle_gan, sc_cycle_gan_lab, sc_approx_matrix])"
   ]
  },
  {
   "cell_type": "code",
   "execution_count": null,
   "metadata": {},
   "outputs": [],
   "source": [
    "plot_diff_heatmap(cycle_gan_128x128, sc_cycle_gan, columns=2, intensity=True, column_titles=[\"CycleGAN\", \"Diffusion via CycleGAN\", \"Diff\"], title=\"Heatmap CycleGAN vs Diffusion via CycleGAN - Intensity\")\n",
    "plot_diff_heatmap(cycle_gan_128x128, sc_cycle_gan, columns=2, intensity=False, column_titles=[\"CycleGAN\", \"Diffusion via CycleGAN\", \"Diff\"], title=\"Heatmap CycleGAN vs Diffusion via CycleGAN - Color\")"
   ]
  },
  {
   "cell_type": "code",
   "execution_count": null,
   "metadata": {},
   "outputs": [],
   "source": [
    "plot_diff_heatmap(cycle_gan_128x128, sc_two_step_test, columns=2, rows=3, intensity=True, column_titles=[\"CycleGAN\", \"Two Step (2)\", \"Diff\"], title=\"Heatmap CycleGAN vs Diffusion - Intensity\")\n",
    "plot_diff_heatmap(cycle_gan_128x128, sc_two_step_test, columns=2, rows=3, intensity=False, column_titles=[\"CycleGAN\", \"Two Step (2)\", \"Diff\"], title=\"Heatmap CycleGAN vs Diffusion - Color\")"
   ]
  },
  {
   "cell_type": "code",
   "execution_count": null,
   "metadata": {},
   "outputs": [],
   "source": [
    "plot_diff_heatmap(cycle_gan_128x128, sc_approx_matrix, columns=3, rows=3, intensity=True, column_titles=[\"CycleGAN\", \"Best Diffusion\", \"Diff\"], title=\"Heatmap CycleGAN vs Diffusion - Intensity\")\n",
    "plot_diff_heatmap(cycle_gan_128x128, sc_approx_matrix, columns=3, rows=3, intensity=False, column_titles=[\"CycleGAN\", \"Best Diffusion\", \"Diff\"], title=\"Heatmap CycleGAN vs Diffusion - Color\")"
   ]
  },
  {
   "cell_type": "code",
   "execution_count": null,
   "metadata": {},
   "outputs": [],
   "source": [
    "plot_diff_heatmap(sc_approx_matrix, sc_two_step, columns=2, rows=3, intensity=False, column_titles=[\"Best\", \"Two Step\\n(1. Variant)\", \"Diff\"], title=\"Heatmap Two Step (1. Variant) - Color\")\n"
   ]
  },
  {
   "cell_type": "code",
   "execution_count": null,
   "metadata": {},
   "outputs": [],
   "source": [
    "plot_diff_heatmap(sc_approx_matrix, sc_two_step, columns=2, rows=3, intensity=True, column_titles=[\"Best\", \"Two Step\\n(1. Variant)\", \"Diff\"], title=\"Heatmap Two Step (1. Variant) - Intensity\")"
   ]
  },
  {
   "cell_type": "code",
   "execution_count": null,
   "metadata": {},
   "outputs": [],
   "source": [
    "plot_diff_heatmap(sc_approx_matrix, sc_two_step_test, columns=2, rows=3, intensity=False, column_titles=[\"Best\", \"Two Step\\n(2. Variant)\", \"Diff\"], title=\"Heatmap Two Step (2. Variant) - Color\")"
   ]
  },
  {
   "cell_type": "code",
   "execution_count": null,
   "metadata": {},
   "outputs": [],
   "source": [
    "plot_diff_heatmap(sc_approx_matrix, sc_two_step_test, columns=2, rows=3, intensity=True, column_titles=[\"Best\", \"Two Step\\n(2. Variant)\", \"Diff\"], title=\"Heatmap Two Step (2. Variant) - Intensity\")"
   ]
  },
  {
   "cell_type": "code",
   "execution_count": null,
   "metadata": {},
   "outputs": [],
   "source": [
    "plot_grid([nirReference_128x128, sc_approx_matrix, sc_hsv, sc_lab], columns=2, rows=2, column_titles=[\"NIR\", \"Best\", \"HSV\", \"LAB\"])"
   ]
  },
  {
   "cell_type": "code",
   "execution_count": null,
   "metadata": {},
   "outputs": [],
   "source": [
    "result_fid_to_df([sc_approx_matrix, sc_hsv, sc_lab])"
   ]
  },
  {
   "cell_type": "code",
   "execution_count": null,
   "metadata": {},
   "outputs": [],
   "source": [
    "plot_grid([nirReference_128x128, sc_approx_matrix, sc_two_step, sc_two_step_test], columns=1, column_titles=[\"NIR\", \"Best\", \"1. Variant\", \"2. Variant\"], rows=3)"
   ]
  },
  {
   "cell_type": "code",
   "execution_count": null,
   "metadata": {},
   "outputs": [],
   "source": [
    "result_fid_to_df([sc_approx_matrix, sc_two_step, sc_two_step_test])"
   ]
  },
  {
   "cell_type": "code",
   "execution_count": null,
   "metadata": {},
   "outputs": [],
   "source": [
    "plot_grid([nirReference_128x128, sc_alternative_matrix_mask, sc_mask_lin_dec], columns=2, rows=3, column_titles=[\"NIR\", \"Curent Best\", \"Mask Weight\\nDecrease\"])"
   ]
  },
  {
   "cell_type": "code",
   "execution_count": null,
   "metadata": {},
   "outputs": [],
   "source": [
    "result_fid_to_df([sc_alternative_matrix_mask, sc_mask_lin_dec])"
   ]
  },
  {
   "cell_type": "code",
   "execution_count": null,
   "metadata": {},
   "outputs": [],
   "source": [
    "plot_grid([nirReference_128x128, sc_alternative_matrix_mask, sc_approx_matrix], columns=2, rows=3, column_titles=[\"NIR\", \"Current Best\", \"NIR Approx\"])"
   ]
  },
  {
   "cell_type": "code",
   "execution_count": null,
   "metadata": {},
   "outputs": [],
   "source": [
    "result_fid_to_df([sc_alternative_matrix_mask, sc_approx_matrix])"
   ]
  },
  {
   "cell_type": "code",
   "execution_count": null,
   "metadata": {},
   "outputs": [],
   "source": [
    "plot_grid([nirReference_128x128, sc_alternative_matrix_mask, sc_repaint_u_10, sc_repaint_schedule_opt], columns=2, rows=3, column_titles=[\"NIR\", \"Current Best\", \"Repaint (U)\", \"Repaint Schedule\"])"
   ]
  },
  {
   "cell_type": "code",
   "execution_count": null,
   "metadata": {},
   "outputs": [],
   "source": [
    "result_fid_to_df([sc_alternative_matrix_mask, sc_repaint_u_10, sc_repaint_schedule_opt])"
   ]
  },
  {
   "cell_type": "code",
   "execution_count": null,
   "metadata": {},
   "outputs": [],
   "source": [
    "plot_grid([nirReference_128x128, sc_alternative_matrix_mask, sc_mask_lin_dec], columns=3, rows=6)"
   ]
  },
  {
   "cell_type": "code",
   "execution_count": null,
   "metadata": {},
   "outputs": [],
   "source": [
    "result_fid_to_df([sc_alternative_matrix_mask, sc_mask_lin_dec])"
   ]
  },
  {
   "cell_type": "code",
   "execution_count": null,
   "metadata": {},
   "outputs": [],
   "source": [
    "plot_grid([nirReference_128x128, sc_alternative_matrix_mask, sc_repaint_schedule, sc_repaint_schedule_opt, sc_repaint_u_10], columns=2, rows=6)"
   ]
  },
  {
   "cell_type": "code",
   "execution_count": null,
   "metadata": {},
   "outputs": [],
   "source": [
    "result_fid_to_df([sc_alternative_matrix_mask, sc_repaint_schedule, sc_repaint_schedule_opt, sc_repaint_u_10])"
   ]
  },
  {
   "cell_type": "code",
   "execution_count": null,
   "metadata": {},
   "outputs": [],
   "source": [
    "plot_grid([nirReference_128x128, sc_alternative_matrix_mask, sc_approx_matrix], columns=2, rows=3)"
   ]
  },
  {
   "cell_type": "code",
   "execution_count": null,
   "metadata": {},
   "outputs": [],
   "source": [
    "result_fid_to_df([sc_alternative_matrix_mask, sc_approx_matrix])"
   ]
  },
  {
   "cell_type": "code",
   "execution_count": null,
   "metadata": {},
   "outputs": [],
   "source": [
    "plot_grid([nirReference_128x128, sc_default, sc_alternative_matrix_mask], columns=2, column_titles=[\"NIR\", \"SC\", \"SC\\nSample Last Row\"], rows=3)"
   ]
  },
  {
   "cell_type": "code",
   "execution_count": null,
   "metadata": {},
   "outputs": [],
   "source": []
  },
  {
   "cell_type": "code",
   "execution_count": null,
   "metadata": {},
   "outputs": [],
   "source": [
    "result_fid_to_df([sc_default, sc_alternative_matrix, sc_alternative_matrix_mask, sc_repaint, sc_repaint_u_10, cycle_gan_128x128])"
   ]
  },
  {
   "cell_type": "code",
   "execution_count": null,
   "metadata": {},
   "outputs": [],
   "source": [
    "plot_grid([rgbReference_128x128, learn_sigma_out, t_1000_random_start_240_png_128x128], columns=2)"
   ]
  },
  {
   "cell_type": "code",
   "execution_count": null,
   "metadata": {},
   "outputs": [],
   "source": [
    "result_fid_to_df([learn_sigma_out, t_1000_random_start_240_png_128x128])"
   ]
  },
  {
   "cell_type": "code",
   "execution_count": null,
   "metadata": {},
   "outputs": [],
   "source": [
    "plot_grid([nirReference_128x128, nir_out], columns=4, rows=7)"
   ]
  },
  {
   "cell_type": "code",
   "execution_count": null,
   "metadata": {},
   "outputs": [],
   "source": [
    "result_fid_to_df([nir_out])"
   ]
  },
  {
   "cell_type": "code",
   "execution_count": null,
   "metadata": {},
   "outputs": [],
   "source": [
    "plot_grid([nirReference_128x128, sc_default, mean_li_120_t_500_128x128_png, cycle_gan_128x128], columns=2, rows=3)"
   ]
  },
  {
   "cell_type": "code",
   "execution_count": null,
   "metadata": {},
   "outputs": [],
   "source": [
    "result_fid_to_df([sc_default, mean_li_120_t_500_128x128_png, cycle_gan_128x128])"
   ]
  },
  {
   "cell_type": "code",
   "execution_count": null,
   "metadata": {},
   "outputs": [],
   "source": [
    "plot_grid([caltech_gray_grayReference_128x128, caltech_gray_cycle_gan_128x128, caltech_gray_128x128_mean_li_120], columns=2,\n",
    "          column_titles=[\"Gray\", \"CycleGAN\", \"Diffusion\"], rows=3)"
   ]
  },
  {
   "cell_type": "code",
   "execution_count": null,
   "metadata": {},
   "outputs": [],
   "source": [
    "result_fid_to_df([caltech_gray_cycle_gan_128x128, caltech_gray_128x128_mean_li_120])"
   ]
  },
  {
   "cell_type": "code",
   "execution_count": null,
   "metadata": {},
   "outputs": [],
   "source": [
    "plot_grid([nirReference, mean_li_120_t_500_128x128_png, cycle_gan_128x128], columns=2, rows=3,\n",
    "          column_titles=[\"NIR\", \"Diffusion\", \"CycleGAN\"])"
   ]
  },
  {
   "cell_type": "code",
   "execution_count": null,
   "metadata": {},
   "outputs": [],
   "source": [
    "result_fid_to_df([mean_li_120_t_500_128x128_png, cycle_gan_128x128])"
   ]
  },
  {
   "cell_type": "code",
   "execution_count": null,
   "metadata": {},
   "outputs": [],
   "source": [
    "plot_grid([rgbReference_128x128, t_1000_random_start_240_128x128, t_1000_random_start_240_png_128x128],\n",
    "          column_titles=[\"Real RGB\", \"Generated (JPEG)\", \"Generated (PNG)\"], columns=2, rows=3)"
   ]
  },
  {
   "cell_type": "code",
   "execution_count": null,
   "metadata": {},
   "outputs": [],
   "source": [
    "result_fid_to_df([t_1000_random_start_240_128x128, t_1000_random_start_240_png_128x128])"
   ]
  },
  {
   "cell_type": "code",
   "execution_count": null,
   "metadata": {},
   "outputs": [],
   "source": [
    "plot_grid([rgbReference_128x128, cycle_gan_128x128, t_1000_random_start_240_png_128x128],\n",
    "          column_titles=[\"Real RGB\", \"CycleGAN\", \"Diffusion 128x128\"], columns=2, rows=3)"
   ]
  },
  {
   "cell_type": "code",
   "execution_count": null,
   "metadata": {},
   "outputs": [],
   "source": [
    "result_fid_to_df([cycle_gan_128x128, t_1000_random_start_240_png_128x128])"
   ]
  },
  {
   "cell_type": "code",
   "execution_count": null,
   "metadata": {},
   "outputs": [],
   "source": [
    "plot_grid([cycle_gan_128x128,\n",
    "           t_1000_random_start_240_128x128, t_1000_random_start_240_randlike_128x128,\n",
    "           t_1000_random_start_240_gd_128x128, t_1000_random_start_240_gd_thv_128x128,\n",
    "           t_1000_random_start_240_png_128x128], columns=3, rows=8,\n",
    "          column_titles=[\"CycleGAN\", \"EGSDE 240\", \"randlike\", \"GD 240\", \"GD 240 THV\", \"PNG\"])"
   ]
  },
  {
   "cell_type": "code",
   "execution_count": null,
   "metadata": {},
   "outputs": [],
   "source": [
    "result_fid_to_df([\n",
    "    cycle_gan_128x128, t_1000_random_start_128x128,\n",
    "    t_1000_random_start_240_128x128,\n",
    "    t_1000_random_start_240_randlike_128x128,\n",
    "    t_1000_random_start_240_gd_128x128,\n",
    "    t_1000_random_start_240_gd_thv_128x128,\n",
    "    t_1000_random_start_240_png_128x128\n",
    "])"
   ]
  },
  {
   "cell_type": "code",
   "execution_count": null,
   "metadata": {},
   "outputs": [],
   "source": [
    "plot_grid(\n",
    "    [nirReference_128x128, highpass_li_120_t_500_0_128x128, mean_li_120_t_500_128x128, mean_lin_li_120_t_500_128x128,\n",
    "     mean_highpass_li_170_t_850_128x128, cycle_gan_128x128],\n",
    "    column_titles=[\"NIR\", \"Highpass Only\", \"Mean Only\", \"Mean $\\downarrow$\", r\"Mean $\\rightarrow$ Highpass\",\n",
    "                   \"CycleGAN\"],\n",
    "    columns=1,\n",
    "    rows=3)"
   ]
  },
  {
   "cell_type": "code",
   "execution_count": null,
   "metadata": {},
   "outputs": [],
   "source": [
    "result_fid_to_df([highpass_li_120_t_500_0_128x128, mean_li_120_t_500_128x128, mean_lin_li_120_t_500_128x128,\n",
    "                  mean_highpass_li_170_t_850_128x128])"
   ]
  },
  {
   "cell_type": "code",
   "execution_count": null,
   "metadata": {},
   "outputs": [],
   "source": [
    "plot_grid([nirReference_128x128, highpass_li_120_t_500_0_128x128, mean_li_120_t_500_128x128, cycle_gan_128x128],\n",
    "          columns=2)"
   ]
  },
  {
   "cell_type": "code",
   "execution_count": null,
   "metadata": {},
   "outputs": [],
   "source": [
    "result_fid_to_df([cycle_gan_128x128, highpass_li_120_t_500_0_128x128, mean_li_120_t_500_128x128])"
   ]
  },
  {
   "cell_type": "code",
   "execution_count": null,
   "metadata": {},
   "outputs": [],
   "source": [
    "plot_grid([nirReference, mean_t_2000_li_500_ls_0, cycle_gan], columns=2)"
   ]
  },
  {
   "cell_type": "code",
   "execution_count": null,
   "metadata": {},
   "outputs": [],
   "source": [
    "result_fid_to_df([mean_t_2000_li_500_ls_0, cycle_gan])"
   ]
  },
  {
   "cell_type": "code",
   "execution_count": null,
   "metadata": {},
   "outputs": [],
   "source": [
    "plot_grid(\n",
    "    [nirReference, highpass_t_2000_li_120_ls_0, highpass_mean_t_2000_li_120_ls_0, highpass_mean_t_2000_li_500_ls_0,\n",
    "     mean_t_2000_li_500_ls_0], columns=1)"
   ]
  },
  {
   "cell_type": "code",
   "execution_count": null,
   "metadata": {},
   "outputs": [],
   "source": [
    "result_fid_to_df([highpass_t_2000_li_120_ls_0, highpass_mean_t_2000_li_120_ls_0, highpass_mean_t_2000_li_500_ls_0,\n",
    "                  mean_t_2000_li_500_ls_0])"
   ]
  },
  {
   "cell_type": "code",
   "execution_count": null,
   "metadata": {},
   "outputs": [],
   "source": [
    "plot_grid([nirReference_128x128, rgbReference_128x128, cycle_gan_128x128, t_1000_random_start_128x128,\n",
    "           t_1000_random_start_240_128x128], columns=2,\n",
    "          column_titles=[\"NIR\", \"Real RGB\", \"CycleGAN\", \"Diffusion 90\", \"Diffusion 240\"], rows=20)"
   ]
  },
  {
   "cell_type": "code",
   "execution_count": null,
   "metadata": {},
   "outputs": [],
   "source": [
    "result_fid_to_df([cycle_gan_128x128, t_1000_random_start_128x128, t_1000_random_start_240_128x128])"
   ]
  },
  {
   "cell_type": "code",
   "execution_count": null,
   "metadata": {},
   "outputs": [],
   "source": [
    "plot_grid([nirReference_128x128, highpass_li_120_t_500_0_128x128, highpass_li_120_t_500_1_128x128,\n",
    "           highpass_li_120_t_600_0_128x128, highpass_li_120_t_600_1_128x128], columns=1)"
   ]
  },
  {
   "cell_type": "code",
   "execution_count": null,
   "metadata": {},
   "outputs": [],
   "source": [
    "result_fid_to_df([highpass_li_120_t_500_0_128x128, highpass_li_120_t_500_1_128x128, highpass_li_120_t_600_0_128x128,\n",
    "                  highpass_li_120_t_600_1_128x128])"
   ]
  },
  {
   "cell_type": "code",
   "execution_count": null,
   "metadata": {},
   "outputs": [],
   "source": [
    "plot_grid([nirReference_128x128, highpass_li_120_t_500_0_128x128, highpass_li_120_t_500_1_128x128,\n",
    "           highpass_li_1000_t_500_log_0_128x128, highpass_li_1000_t_500_log_1_128x128], columns=1)"
   ]
  },
  {
   "cell_type": "code",
   "execution_count": null,
   "metadata": {},
   "outputs": [],
   "source": [
    "result_fid_to_df(\n",
    "    [highpass_li_120_t_500_0_128x128, highpass_li_120_t_500_1_128x128, highpass_li_1000_t_500_log_0_128x128,\n",
    "     highpass_li_1000_t_500_log_1_128x128])"
   ]
  },
  {
   "cell_type": "code",
   "execution_count": null,
   "metadata": {},
   "outputs": [],
   "source": [
    "plot_grid([nirReference, downN_0_li_10_t_2000, highpass_t_2000_li_120, highpass_t_2000_li_120_ls_0], columns=2, rows=2)"
   ]
  },
  {
   "cell_type": "code",
   "execution_count": null,
   "metadata": {},
   "outputs": [],
   "source": [
    "result_fid_to_df([downN_0_li_10_t_2000, highpass_t_2000_li_120, highpass_t_2000_li_120_ls_0])"
   ]
  },
  {
   "cell_type": "code",
   "execution_count": null,
   "metadata": {},
   "outputs": [],
   "source": [
    "plot_grid([nirReference, downN_0_li_10_t_2000, highpass_t_2000_li_500, highpass_t_2000_li_120], columns=2, rows=2)"
   ]
  },
  {
   "cell_type": "code",
   "execution_count": null,
   "metadata": {},
   "outputs": [],
   "source": [
    "result_fid_to_df([downN_0_li_10_t_2000, highpass_t_2000_li_500, highpass_t_2000_li_120])"
   ]
  },
  {
   "cell_type": "code",
   "execution_count": null,
   "metadata": {},
   "outputs": [],
   "source": [
    "plot_grid([nirReference, downN_00, downN_0_li_10_t_2000], columns=3, rows=3,\n",
    "          column_titles=[\"NIR\", \"$t=500, \\lambda_i=2$\", \"$t=2000, \\lambda_i=10$\"])"
   ]
  },
  {
   "cell_type": "code",
   "execution_count": null,
   "metadata": {},
   "outputs": [],
   "source": [
    "result_fid_to_df([downN_00, downN_0_li_10_t_2000])"
   ]
  },
  {
   "cell_type": "code",
   "execution_count": null,
   "metadata": {},
   "outputs": [],
   "source": [
    "result_fid_to_df([downN_32, downN_0_li_10_t_2000, highpass_t_2000_li_500, cycle_gan])"
   ]
  },
  {
   "cell_type": "code",
   "execution_count": null,
   "metadata": {},
   "outputs": [],
   "source": [
    "plot_grid([nirReference, cycle_gan, highpass_t_2000_li_500, downN_32], 2, rows=16)"
   ]
  },
  {
   "cell_type": "markdown",
   "metadata": {
    "ExecuteTime": {
     "end_time": "2023-06-06T09:08:14.953622485Z",
     "start_time": "2023-06-06T09:08:14.838790248Z"
    }
   },
   "source": []
  },
  {
   "cell_type": "code",
   "execution_count": null,
   "metadata": {},
   "outputs": [],
   "source": [
    "result_fid_to_df([cycle_gan, highpass_t_2000_li_500])"
   ]
  },
  {
   "cell_type": "code",
   "execution_count": null,
   "metadata": {},
   "outputs": [],
   "source": [
    "plot_grid([nirReference, downN_32], 3)"
   ]
  },
  {
   "cell_type": "code",
   "execution_count": null,
   "metadata": {},
   "outputs": [],
   "source": [
    "plot_grid([nirReference, downN_32, ls_0_li_0], 2)"
   ]
  },
  {
   "cell_type": "code",
   "execution_count": null,
   "metadata": {},
   "outputs": [],
   "source": [
    "plot_grid([nirReference, downN_32, initial_random], 2)"
   ]
  },
  {
   "cell_type": "code",
   "execution_count": null,
   "metadata": {},
   "outputs": [],
   "source": [
    "plot_grid([nirReference, ls_0_li_500], columns=3)"
   ]
  },
  {
   "cell_type": "code",
   "execution_count": null,
   "metadata": {},
   "outputs": [],
   "source": [
    "plot_grid([nirReference, downN_00, downN_02, downN_32], columns=2)"
   ]
  },
  {
   "cell_type": "code",
   "execution_count": null,
   "metadata": {},
   "outputs": [],
   "source": [
    "plot_grid([nirReference, ls_0_li_0, li_0, downN_32], columns=1)\n",
    "result_fid_to_df([ls_0_li_0, li_0, downN_32])"
   ]
  },
  {
   "cell_type": "code",
   "execution_count": null,
   "metadata": {},
   "outputs": [],
   "source": [
    "plot_grid([initial_random_li_0_ls_0, initial_random_li_0_ls_0_t_4000], columns=4, rows=3, )"
   ]
  },
  {
   "cell_type": "code",
   "execution_count": null,
   "metadata": {},
   "outputs": [],
   "source": [
    "result_fid_to_df([initial_random_li_0_ls_0, initial_random_li_0_ls_0_t_4000])"
   ]
  },
  {
   "cell_type": "code",
   "execution_count": null,
   "metadata": {},
   "outputs": [],
   "source": [
    "plot_grid([cycle_gan, initial_random_li_0_ls_0_t_4000], columns=3, rows=3, column_titles=[\"CycleGAN\", \"Diffusion\"])"
   ]
  },
  {
   "cell_type": "code",
   "execution_count": null,
   "metadata": {},
   "outputs": [],
   "source": [
    "result_fid_to_df([cycle_gan, initial_random_li_0_ls_0_t_4000])"
   ]
  },
  {
   "cell_type": "code",
   "execution_count": null,
   "metadata": {},
   "outputs": [],
   "source": [
    "plot_grid([nirReference, cycle_gan, highpass_t_2000_li_500], columns=2, rows=2,\n",
    "          column_titles=[\"NIR\", \"CycleGAN\", \"Diffusion\"])"
   ]
  },
  {
   "cell_type": "code",
   "execution_count": null,
   "metadata": {},
   "outputs": [],
   "source": [
    "result_fid_to_df([cycle_gan, highpass_t_2000_li_500])"
   ]
  },
  {
   "cell_type": "code",
   "execution_count": null,
   "metadata": {},
   "outputs": [],
   "source": [
    "plot_grid([nirReference, t4000, initial_random_li_0_ls_0_t_4000], columns=2, rows=2,\n",
    "          column_titles=[\"NIR\", \"$t=4000$\\n$y \\sim p_{M|0}(y\\mid x_0)$\\n$\\lambda_s=500, \\lambda_i=2$\",\n",
    "                         \"$t=4000$\\n$y \\sim \\mathcal{N}(0, \\mathbf{I})$\\n$\\lambda_s=0, \\lambda_i=0$\"])"
   ]
  },
  {
   "cell_type": "code",
   "execution_count": null,
   "metadata": {},
   "outputs": [],
   "source": [
    "plot_grid([rgbReference, cycle_gan, initial_random_li_0_ls_0_t_4000], columns=2, rows=3,\n",
    "          column_titles=[\"RGB\", \"CycleGAN\", \"Diffusion\"])"
   ]
  },
  {
   "cell_type": "code",
   "execution_count": null,
   "metadata": {},
   "outputs": [],
   "source": [
    "plot_grid([rgbReference, cycle_gan, highpass_t_2000_li_120], columns=2, rows=3,\n",
    "          column_titles=[\"RGB\", \"CycleGAN\", \"Diffusion\"])"
   ]
  },
  {
   "cell_type": "code",
   "execution_count": null,
   "metadata": {},
   "outputs": [],
   "source": [
    "import torch\n",
    "import torchvision.transforms as TF\n",
    "\n",
    "sim = torch.nn.CosineSimilarity()\n",
    "\n",
    "\n",
    "def band_pass_loss(x1, x2):\n",
    "    dataset1 = NumpyDataset(x1.load_images()[:100])\n",
    "    batch1 = torch.tensor(np.array([i.numpy() for i in dataset1]))\n",
    "    grad1 = sobel(batch1)\n",
    "\n",
    "    dataset2 = NumpyDataset(x2.load_images()[:100])\n",
    "    batch2 = torch.tensor(np.array([i.numpy() for i in dataset2]))\n",
    "    grad2 = sobel(batch2)\n",
    "\n",
    "    return sim(grad1, grad2).mean()"
   ]
  },
  {
   "cell_type": "code",
   "execution_count": null,
   "metadata": {},
   "outputs": [],
   "source": [
    "band_pass_loss(nirReference, cycle_gan)"
   ]
  },
  {
   "cell_type": "code",
   "execution_count": null,
   "metadata": {},
   "outputs": [],
   "source": [
    "dataset1 = NumpyDataset(cycle_gan.load_images()[:100])\n",
    "batch1 = torch.tensor(np.array([i.numpy() for i in dataset1]))\n",
    "grad1 = sobel(batch1)\n",
    "\n",
    "TF.ToPILImage()(grad1.numpy()[0])\n"
   ]
  },
  {
   "cell_type": "code",
   "execution_count": null,
   "metadata": {},
   "outputs": [],
   "source": [
    "band_pass_loss(nirReference, downN_32)"
   ]
  },
  {
   "cell_type": "code",
   "execution_count": null,
   "metadata": {},
   "outputs": [],
   "source": [
    "plot_grid([nirReference, cycle_gan, downN_32], columns=3)  #%%\n",
    "\n",
    "\n",
    "def plot_grid(results_to_plot: list[Result], columns, rows=4, column_titles=None):\n",
    "    image_count_to_plot = min(columns * rows, len(results_to_plot[0].load_images()))\n",
    "\n",
    "    column_size = len(results_to_plot)\n",
    "\n",
    "    image_columns = column_size * columns\n",
    "\n",
    "    fig, axes = plt.subplots(nrows=rows, ncols=image_columns, figsize=(image_columns * 2, rows * 2))\n",
    "\n",
    "    axes_matrix = axes.reshape((rows * columns, column_size)).T\n",
    "\n",
    "    for result, column_axis in zip(results_to_plot, axes_matrix):\n",
    "        for image, ax in zip(result.load_images()[:image_count_to_plot], column_axis):\n",
    "            ax.imshow(image)\n",
    "            ax.axis('off')\n",
    "            ax.set_xticklabels([])\n",
    "            ax.set_yticklabels([])\n",
    "\n",
    "    if column_titles is None:\n",
    "        column_titles = [result.title for result in results_to_plot]\n",
    "\n",
    "    assert len(column_titles) == column_size\n",
    "\n",
    "    for title, ax in zip(column_titles * columns, axes[0]):\n",
    "        ax.set_title(title)\n",
    "\n",
    "    plt.subplots_adjust(wspace=0, hspace=0)\n",
    "    plt.show()"
   ]
  },
  {
   "cell_type": "code",
   "execution_count": null,
   "metadata": {},
   "outputs": [],
   "source": [
    "def result_fid_to_df(results_to_plot: list[EvaluationResult]):\n",
    "    data = {\n",
    "        \"FID\": [result.load_fid() for result in results_to_plot]\n",
    "    }\n",
    "    return pd.DataFrame(data, index=[result.title for result in results_to_plot])\n",
    "\n",
    "\n",
    "def plot_fid_bars(df):\n",
    "    df.plot.bar()\n",
    "    plt.xticks(rotation=30, ha='right')"
   ]
  },
  {
   "cell_type": "code",
   "execution_count": null,
   "metadata": {},
   "outputs": [],
   "source": [
    "ROOT_DIR = \"../../\"\n",
    "EGSDE_RUNS_BASE_PATH = join(ROOT_DIR, \"../EGSDE/runs/nir2rgb/\")\n",
    "SERENGETI_NIR_INCANDESCENT_DATASET = join(ROOT_DIR, \"cycle-gan/datasets/serengeti-incandescent/\")\n",
    "\n",
    "nirReference = Result(join(SERENGETI_NIR_INCANDESCENT_DATASET, \"testA\"), \"NIR\")\n",
    "nirReference_128x128 = Result(join(SERENGETI_NIR_INCANDESCENT_DATASET, \"testA\"), \"NIR\", load_size=(128, 128))\n",
    "rgbReference = Result(join(SERENGETI_NIR_INCANDESCENT_DATASET, \"testB\"), \"RGB\")\n",
    "rgbReference_128x128 = Result(join(SERENGETI_NIR_INCANDESCENT_DATASET, \"testB\"), \"RGB\", load_size=(128, 128))\n",
    "\n",
    "downN_00 = EvaluationResult(join(EGSDE_RUNS_BASE_PATH, \"downN_00\"), \"$\\mathrm{downN}=0$\", fid_reference=rgbReference)\n",
    "downN_02 = EvaluationResult(join(EGSDE_RUNS_BASE_PATH, \"downN_02\"), \"$\\mathrm{downN}=2$\", fid_reference=rgbReference)\n",
    "downN_32 = EvaluationResult(join(EGSDE_RUNS_BASE_PATH, \"downN_32\"), \"$\\mathrm{downN}=32$\", fid_reference=rgbReference)\n",
    "li_0 = EvaluationResult(join(EGSDE_RUNS_BASE_PATH, \"li_0\"), \"$\\lambda_i=0$\", fid_reference=rgbReference)\n",
    "ls_0_li_0 = EvaluationResult(join(EGSDE_RUNS_BASE_PATH, \"ls_0_li_0\"), \"$\\lambda_i=0, \\lambda_s=0$\",\n",
    "                             fid_reference=rgbReference)\n",
    "ls_0_li_500 = EvaluationResult(join(EGSDE_RUNS_BASE_PATH, \"ls_0_li_500\"), \"$\\lambda_i=500, \\lambda_s=0$\",\n",
    "                               fid_reference=rgbReference)\n",
    "initial_random = EvaluationResult(join(EGSDE_RUNS_BASE_PATH, \"initial_random\"),\n",
    "                                  \"$t=500, y \\sim \\mathcal{N}(0,\\mathbf{I})$\", fid_reference=rgbReference)\n",
    "initial_random_li_0_ls_0 = EvaluationResult(join(EGSDE_RUNS_BASE_PATH, \"initial_random_li_0_ls_0\"),\n",
    "                                            \"$t=500$\\n$y \\sim \\mathcal{N}(0,\\mathbf{I})$\\n$\\lambda_i=0, \\lambda_s=0$\",\n",
    "                                            fid_reference=rgbReference)\n",
    "initial_random_li_0_ls_0_t_4000 = EvaluationResult(join(EGSDE_RUNS_BASE_PATH, \"initial_random_li_0_ls_0_t_4000\"),\n",
    "                                                   \"$t=4000$\\n$y \\sim \\mathcal{N}(0,\\mathbf{I})$\\n$\\lambda_i=0, \\lambda_s=0$\",\n",
    "                                                   fid_reference=rgbReference)\n",
    "t4000 = EvaluationResult(join(EGSDE_RUNS_BASE_PATH, \"initial_random_li_0_ls_0_t_4000\"), \"$t=4000$\",\n",
    "                         fid_reference=rgbReference)\n",
    "\n",
    "highpass_t_2000 = EvaluationResult(join(EGSDE_RUNS_BASE_PATH, \"highpass_t_2000_li_02\"),\n",
    "                                   \"$t=2000, \\lambda_i=2$,\\n Highpass\",\n",
    "                                   fid_reference=rgbReference)\n",
    "\n",
    "highpass_t_2000_li_500 = EvaluationResult(join(EGSDE_RUNS_BASE_PATH, \"highpass_t_2000_li_500\"),\n",
    "                                          \"$t=2000, \\lambda_i=500$,\\n Highpass\", fid_reference=rgbReference)\n",
    "highpass_t_2000_li_120 = EvaluationResult(join(EGSDE_RUNS_BASE_PATH, \"highpass_t_2000_li_120\"),\n",
    "                                          \"$t=2000, \\lambda_i=120$,\\n Highpass\", fid_reference=rgbReference)\n",
    "highpass_t_2000_li_120_ls_0 = EvaluationResult(join(EGSDE_RUNS_BASE_PATH, \"highpass_t_2000_li_120_ls_0\"),\n",
    "                                               \"$t=2000$\\n$\\lambda_i=120, \\lambda_s=0$,\\n Highpass\",\n",
    "                                               fid_reference=rgbReference)\n",
    "highpass_mean_t_2000_li_120_ls_0 = EvaluationResult(join(EGSDE_RUNS_BASE_PATH, \"highpass_mean_t_2000_li_120_ls_0\"),\n",
    "                                                    \"$t=2000$\\n$\\lambda_i=120, \\lambda_s=0$,\\n Highpass & Mean\",\n",
    "                                                    fid_reference=rgbReference)\n",
    "highpass_mean_t_2000_li_500_ls_0 = EvaluationResult(join(EGSDE_RUNS_BASE_PATH, \"highpass_mean_t_2000_li_500_ls_0\"),\n",
    "                                                    \"$t=2000$\\n$\\lambda_i=500, \\lambda_s=0$,\\n Highpass & Mean\",\n",
    "                                                    fid_reference=rgbReference)\n",
    "mean_t_2000_li_500_ls_0 = EvaluationResult(join(EGSDE_RUNS_BASE_PATH, \"mean_t_2000_li_500_ls_0\"),\n",
    "                                           \"$t=2000$\\n$\\lambda_i=500, \\lambda_s=0$,\\n Mean\",\n",
    "                                           fid_reference=rgbReference)\n",
    "\n",
    "downN_0_li_10_t_2000 = EvaluationResult(join(EGSDE_RUNS_BASE_PATH, \"downN_0_li_10_t_2000\"),\n",
    "                                        \"$t=2000, \\lambda_i=10$,\\n Identity\", fid_reference=rgbReference)\n",
    "\n",
    "highpass_li_120_t_500_0_128x128 = EvaluationResult(join(EGSDE_RUNS_BASE_PATH, \"128x128_highpass_li_120_t_500_0\"),\n",
    "                                                   \"128x128, \\n$t=500, \\lambda_i=120$, \\n0\",\n",
    "                                                   fid_reference=rgbReference_128x128, load_size=(128, 128))\n",
    "\n",
    "highpass_li_120_t_500_1_128x128 = EvaluationResult(join(EGSDE_RUNS_BASE_PATH, \"128x128_highpass_li_120_t_500_1\"),\n",
    "                                                   \"128x128, \\n$t=500, \\lambda_i=120$, \\n1\",\n",
    "                                                   fid_reference=rgbReference_128x128, load_size=(128, 128))\n",
    "\n",
    "highpass_li_120_t_600_0_128x128 = EvaluationResult(join(EGSDE_RUNS_BASE_PATH, \"128x128_highpass_li_120_t_600_0\"),\n",
    "                                                   \"128x128, \\n$t=600, \\lambda_i=120$, \\n0\",\n",
    "                                                   fid_reference=rgbReference_128x128, load_size=(128, 128))\n",
    "\n",
    "highpass_li_120_t_600_1_128x128 = EvaluationResult(join(EGSDE_RUNS_BASE_PATH, \"128x128_highpass_li_120_t_600_1\"),\n",
    "                                                   \"128x128, \\n$t=600, \\lambda_i=120$, \\n1\",\n",
    "                                                   fid_reference=rgbReference_128x128, load_size=(128, 128))\n",
    "\n",
    "highpass_li_1000_t_500_log_0_128x128 = EvaluationResult(\n",
    "    join(EGSDE_RUNS_BASE_PATH, \"128x128_highpass_li_1000_t_500_log_0\"),\n",
    "    \"128x128, \\n$t=500, \\lambda_i=1000$, \\nlog, 0\", fid_reference=rgbReference_128x128, load_size=(128, 128))\n",
    "\n",
    "highpass_li_1000_t_500_log_1_128x128 = EvaluationResult(\n",
    "    join(EGSDE_RUNS_BASE_PATH, \"128x128_highpass_li_1000_t_500_log_1\"),\n",
    "    \"128x128, \\n$t=500, \\lambda_i=1000$, \\nlog, 1\", fid_reference=rgbReference_128x128, load_size=(128, 128))\n",
    "\n",
    "mean_li_120_t_500_128x128 = EvaluationResult(\n",
    "    join(EGSDE_RUNS_BASE_PATH, \"128x128_mean_li_120_t_500\"),\n",
    "    \"128x128, \\n$t=500, \\lambda_i=120$, \\n Mean\", fid_reference=rgbReference_128x128, load_size=(128, 128))\n",
    "\n",
    "mean_lin_li_120_t_500_128x128 = EvaluationResult(\n",
    "    join(EGSDE_RUNS_BASE_PATH, \"128x128_mean_lin_li_120_t_500\"),\n",
    "    \"128x128, \\n$t=500, \\lambda_i=120$, \\n Mean $\\downarrow$\", fid_reference=rgbReference_128x128, load_size=(128, 128))\n",
    "\n",
    "mean_highpass_li_170_t_850_128x128 = EvaluationResult(join(EGSDE_RUNS_BASE_PATH, \"128x128_mean_highpass_li_170_t_850\"),\n",
    "                                                      \"128x128, \\n$t=850, \\lambda_i=170$, \\nHighpass $\\leftarrow$ Mean\",\n",
    "                                                      fid_reference=rgbReference_128x128, load_size=(128, 128))\n",
    "\n",
    "t_1000_random_start_128x128 = EvaluationResult(join(EGSDE_RUNS_BASE_PATH, \"128x128_t_1000_random_start\"),\n",
    "                                               \"128x128, Unconditional\", fid_reference=rgbReference_128x128,\n",
    "                                               load_size=(128, 128))\n",
    "\n",
    "t_1000_random_start_240_128x128 = EvaluationResult(join(EGSDE_RUNS_BASE_PATH, \"128x128_t_1000_random_start_240\"),\n",
    "                                                   \"128x128, Unconditional\", fid_reference=rgbReference_128x128,\n",
    "                                                   load_size=(128, 128))\n",
    "\n",
    "cycle_gan = EvaluationResult(\"../../cycle-gan/results/cycle_gan_serengeti_inc_0_000015_0_000045/test_200/images\",\n",
    "                             \"CycleGAN\", fid_reference=rgbReference, filename_matcher=\"*_fake.png\")\n",
    "\n",
    "cycle_gan_128x128 = EvaluationResult(\n",
    "    \"../../cycle-gan/results/cycle_gan_serengeti_inc_0_000015_0_000045/test_200/images\",\n",
    "    \"CycleGAN\", fid_reference=rgbReference_128x128, filename_matcher=\"*_fake.png\", load_size=(128, 128))\n"
   ]
  },
  {
   "cell_type": "code",
   "execution_count": null,
   "metadata": {},
   "outputs": [],
   "source": [
    "plot_grid(\n",
    "    [nirReference_128x128, highpass_li_120_t_500_0_128x128, mean_li_120_t_500_128x128, mean_lin_li_120_t_500_128x128,\n",
    "     mean_highpass_li_170_t_850_128x128, cycle_gan_128x128],\n",
    "    columns=1)"
   ]
  },
  {
   "cell_type": "code",
   "execution_count": null,
   "metadata": {},
   "outputs": [],
   "source": [
    "result_fid_to_df([highpass_li_120_t_500_0_128x128, mean_li_120_t_500_128x128, mean_lin_li_120_t_500_128x128,\n",
    "                  mean_highpass_li_170_t_850_128x128, cycle_gan_128x128])"
   ]
  },
  {
   "cell_type": "code",
   "execution_count": null,
   "metadata": {},
   "outputs": [],
   "source": [
    "plot_grid([nirReference_128x128, highpass_li_120_t_500_0_128x128, mean_li_120_t_500_128x128, cycle_gan_128x128],\n",
    "          columns=2)"
   ]
  },
  {
   "cell_type": "code",
   "execution_count": null,
   "metadata": {},
   "outputs": [],
   "source": [
    "result_fid_to_df([cycle_gan_128x128, highpass_li_120_t_500_0_128x128, mean_li_120_t_500_128x128])"
   ]
  },
  {
   "cell_type": "code",
   "execution_count": null,
   "metadata": {},
   "outputs": [],
   "source": [
    "plot_grid([nirReference, mean_t_2000_li_500_ls_0, cycle_gan], columns=2)"
   ]
  },
  {
   "cell_type": "code",
   "execution_count": null,
   "metadata": {},
   "outputs": [],
   "source": [
    "result_fid_to_df([mean_t_2000_li_500_ls_0, cycle_gan])"
   ]
  },
  {
   "cell_type": "code",
   "execution_count": null,
   "metadata": {},
   "outputs": [],
   "source": [
    "plot_grid(\n",
    "    [nirReference, highpass_t_2000_li_120_ls_0, highpass_mean_t_2000_li_120_ls_0, highpass_mean_t_2000_li_500_ls_0,\n",
    "     mean_t_2000_li_500_ls_0], columns=1)"
   ]
  },
  {
   "cell_type": "code",
   "execution_count": null,
   "metadata": {},
   "outputs": [],
   "source": [
    "result_fid_to_df([highpass_t_2000_li_120_ls_0, highpass_mean_t_2000_li_120_ls_0, highpass_mean_t_2000_li_500_ls_0,\n",
    "                  mean_t_2000_li_500_ls_0])"
   ]
  },
  {
   "cell_type": "code",
   "execution_count": null,
   "metadata": {},
   "outputs": [],
   "source": [
    "plot_grid([nirReference_128x128, rgbReference_128x128, cycle_gan_128x128, t_1000_random_start_128x128,\n",
    "           t_1000_random_start_240_128x128], columns=2,\n",
    "          column_titles=[\"NIR\", \"Real RGB\", \"CycleGAN\", \"Diffusion 90\", \"Diffusion 240\"], rows=20)"
   ]
  },
  {
   "cell_type": "code",
   "execution_count": null,
   "metadata": {},
   "outputs": [],
   "source": [
    "result_fid_to_df([cycle_gan_128x128, t_1000_random_start_128x128, t_1000_random_start_240_128x128])"
   ]
  },
  {
   "cell_type": "code",
   "execution_count": null,
   "metadata": {},
   "outputs": [],
   "source": [
    "plot_grid([nirReference_128x128, highpass_li_120_t_500_0_128x128, highpass_li_120_t_500_1_128x128,\n",
    "           highpass_li_120_t_600_0_128x128, highpass_li_120_t_600_1_128x128], columns=1)"
   ]
  },
  {
   "cell_type": "code",
   "execution_count": null,
   "metadata": {},
   "outputs": [],
   "source": [
    "result_fid_to_df([highpass_li_120_t_500_0_128x128, highpass_li_120_t_500_1_128x128, highpass_li_120_t_600_0_128x128,\n",
    "                  highpass_li_120_t_600_1_128x128])"
   ]
  },
  {
   "cell_type": "code",
   "execution_count": null,
   "metadata": {},
   "outputs": [],
   "source": [
    "plot_grid([nirReference_128x128, highpass_li_120_t_500_0_128x128, highpass_li_120_t_500_1_128x128,\n",
    "           highpass_li_1000_t_500_log_0_128x128, highpass_li_1000_t_500_log_1_128x128], columns=1)"
   ]
  },
  {
   "cell_type": "code",
   "execution_count": null,
   "metadata": {},
   "outputs": [],
   "source": [
    "result_fid_to_df(\n",
    "    [highpass_li_120_t_500_0_128x128, highpass_li_120_t_500_1_128x128, highpass_li_1000_t_500_log_0_128x128,\n",
    "     highpass_li_1000_t_500_log_1_128x128])"
   ]
  },
  {
   "cell_type": "code",
   "execution_count": null,
   "metadata": {},
   "outputs": [],
   "source": [
    "plot_grid([nirReference, downN_0_li_10_t_2000, highpass_t_2000_li_120, highpass_t_2000_li_120_ls_0], columns=2, rows=2)"
   ]
  },
  {
   "cell_type": "code",
   "execution_count": null,
   "metadata": {},
   "outputs": [],
   "source": [
    "result_fid_to_df([downN_0_li_10_t_2000, highpass_t_2000_li_120, highpass_t_2000_li_120_ls_0])"
   ]
  },
  {
   "cell_type": "code",
   "execution_count": null,
   "metadata": {},
   "outputs": [],
   "source": [
    "plot_grid([nirReference, downN_0_li_10_t_2000, highpass_t_2000_li_500, highpass_t_2000_li_120], columns=2, rows=2)"
   ]
  },
  {
   "cell_type": "code",
   "execution_count": null,
   "metadata": {},
   "outputs": [],
   "source": [
    "result_fid_to_df([downN_0_li_10_t_2000, highpass_t_2000_li_500, highpass_t_2000_li_120])"
   ]
  },
  {
   "cell_type": "code",
   "execution_count": null,
   "metadata": {},
   "outputs": [],
   "source": [
    "plot_grid([nirReference, downN_00, downN_0_li_10_t_2000], columns=3, rows=3,\n",
    "          column_titles=[\"NIR\", \"$t=500, \\lambda_i=2$\", \"$t=2000, \\lambda_i=10$\"])"
   ]
  },
  {
   "cell_type": "code",
   "execution_count": null,
   "metadata": {},
   "outputs": [],
   "source": [
    "result_fid_to_df([downN_00, downN_0_li_10_t_2000])"
   ]
  },
  {
   "cell_type": "code",
   "execution_count": null,
   "metadata": {},
   "outputs": [],
   "source": [
    "result_fid_to_df([downN_32, downN_0_li_10_t_2000, highpass_t_2000_li_500, cycle_gan])"
   ]
  },
  {
   "cell_type": "code",
   "execution_count": null,
   "metadata": {},
   "outputs": [],
   "source": [
    "plot_grid([nirReference, cycle_gan, highpass_t_2000_li_500, downN_32], 2, rows=16)"
   ]
  },
  {
   "cell_type": "markdown",
   "metadata": {},
   "source": []
  },
  {
   "cell_type": "code",
   "execution_count": null,
   "metadata": {},
   "outputs": [],
   "source": [
    "result_fid_to_df([cycle_gan, highpass_t_2000_li_500])"
   ]
  },
  {
   "cell_type": "code",
   "execution_count": null,
   "metadata": {},
   "outputs": [],
   "source": [
    "plot_grid([nirReference, downN_32], 3)"
   ]
  },
  {
   "cell_type": "code",
   "execution_count": null,
   "metadata": {},
   "outputs": [],
   "source": [
    "plot_grid([nirReference, downN_32, ls_0_li_0], 2)"
   ]
  },
  {
   "cell_type": "code",
   "execution_count": null,
   "metadata": {},
   "outputs": [],
   "source": [
    "plot_grid([nirReference, downN_32, initial_random], 2)"
   ]
  },
  {
   "cell_type": "code",
   "execution_count": null,
   "metadata": {},
   "outputs": [],
   "source": [
    "plot_grid([nirReference, ls_0_li_500], columns=3)"
   ]
  },
  {
   "cell_type": "code",
   "execution_count": null,
   "metadata": {},
   "outputs": [],
   "source": [
    "plot_grid([nirReference, downN_00, downN_02, downN_32], columns=2)"
   ]
  },
  {
   "cell_type": "code",
   "execution_count": null,
   "metadata": {},
   "outputs": [],
   "source": [
    "plot_grid([nirReference, ls_0_li_0, li_0, downN_32], columns=1)\n",
    "result_fid_to_df([ls_0_li_0, li_0, downN_32])"
   ]
  },
  {
   "cell_type": "code",
   "execution_count": null,
   "metadata": {},
   "outputs": [],
   "source": [
    "plot_grid([initial_random_li_0_ls_0, initial_random_li_0_ls_0_t_4000], columns=4, rows=3, )"
   ]
  },
  {
   "cell_type": "code",
   "execution_count": null,
   "metadata": {},
   "outputs": [],
   "source": [
    "result_fid_to_df([initial_random_li_0_ls_0, initial_random_li_0_ls_0_t_4000])"
   ]
  },
  {
   "cell_type": "code",
   "execution_count": null,
   "metadata": {},
   "outputs": [],
   "source": [
    "plot_grid([cycle_gan, initial_random_li_0_ls_0_t_4000], columns=3, rows=3, column_titles=[\"CycleGAN\", \"Diffusion\"])"
   ]
  },
  {
   "cell_type": "code",
   "execution_count": null,
   "metadata": {},
   "outputs": [],
   "source": [
    "result_fid_to_df([cycle_gan, initial_random_li_0_ls_0_t_4000])"
   ]
  },
  {
   "cell_type": "code",
   "execution_count": null,
   "metadata": {},
   "outputs": [],
   "source": [
    "plot_grid([nirReference, cycle_gan, highpass_t_2000_li_500], columns=2, rows=2,\n",
    "          column_titles=[\"NIR\", \"CycleGAN\", \"Diffusion\"])"
   ]
  },
  {
   "cell_type": "code",
   "execution_count": null,
   "metadata": {},
   "outputs": [],
   "source": [
    "result_fid_to_df([cycle_gan, highpass_t_2000_li_500])"
   ]
  },
  {
   "cell_type": "code",
   "execution_count": null,
   "metadata": {},
   "outputs": [],
   "source": [
    "plot_grid([nirReference, t4000, initial_random_li_0_ls_0_t_4000], columns=2, rows=2,\n",
    "          column_titles=[\"NIR\", \"$t=4000$\\n$y \\sim p_{M|0}(y\\mid x_0)$\\n$\\lambda_s=500, \\lambda_i=2$\",\n",
    "                         \"$t=4000$\\n$y \\sim \\mathcal{N}(0, \\mathbf{I})$\\n$\\lambda_s=0, \\lambda_i=0$\"])"
   ]
  },
  {
   "cell_type": "code",
   "execution_count": null,
   "metadata": {},
   "outputs": [],
   "source": [
    "plot_grid([rgbReference, cycle_gan, initial_random_li_0_ls_0_t_4000], columns=2, rows=3,\n",
    "          column_titles=[\"RGB\", \"CycleGAN\", \"Diffusion\"])"
   ]
  },
  {
   "cell_type": "code",
   "execution_count": null,
   "metadata": {},
   "outputs": [],
   "source": [
    "plot_grid([rgbReference, cycle_gan, highpass_t_2000_li_120], columns=2, rows=3,\n",
    "          column_titles=[\"RGB\", \"CycleGAN\", \"Diffusion\"])"
   ]
  },
  {
   "cell_type": "code",
   "execution_count": null,
   "metadata": {},
   "outputs": [],
   "source": [
    "import torch\n",
    "import torchvision.transforms as TF\n",
    "\n",
    "sim = torch.nn.CosineSimilarity()\n",
    "\n",
    "\n",
    "def band_pass_loss(x1, x2):\n",
    "    dataset1 = NumpyDataset(x1.load_images()[:100])\n",
    "    batch1 = torch.tensor(np.array([i.numpy() for i in dataset1]))\n",
    "    grad1 = sobel(batch1)\n",
    "\n",
    "    dataset2 = NumpyDataset(x2.load_images()[:100])\n",
    "    batch2 = torch.tensor(np.array([i.numpy() for i in dataset2]))\n",
    "    grad2 = sobel(batch2)\n",
    "\n",
    "    return sim(grad1, grad2).mean()"
   ]
  },
  {
   "cell_type": "code",
   "execution_count": null,
   "metadata": {},
   "outputs": [],
   "source": [
    "band_pass_loss(nirReference, cycle_gan)"
   ]
  },
  {
   "cell_type": "code",
   "execution_count": null,
   "metadata": {},
   "outputs": [],
   "source": [
    "dataset1 = NumpyDataset(cycle_gan.load_images()[:100])\n",
    "batch1 = torch.tensor(np.array([i.numpy() for i in dataset1]))\n",
    "grad1 = sobel(batch1)\n",
    "\n",
    "TF.ToPILImage()(grad1.numpy()[0])\n"
   ]
  },
  {
   "cell_type": "code",
   "execution_count": null,
   "metadata": {},
   "outputs": [],
   "source": [
    "band_pass_loss(nirReference, downN_32)"
   ]
  },
  {
   "cell_type": "code",
   "execution_count": null,
   "metadata": {},
   "outputs": [],
   "source": [
    "plot_grid([nirReference, cycle_gan, downN_32], columns=3)"
   ]
  },
  {
   "cell_type": "code",
   "execution_count": null,
   "metadata": {},
   "outputs": [],
   "source": [
    "from torchvision.transforms import ToTensor, ToPILImage\n",
    "\n",
    "M = torch.tensor([[5.7735014e-01, -8.1649649e-01, 4.7008697e-08],\n",
    "                  [5.7735026e-01, 4.0824834e-01, 7.0710671e-01],\n",
    "                  [5.7735026e-01, 4.0824822e-01, -7.0710683e-01]])\n",
    "\n",
    "# `invM` is the inverse transformation of `M`\n",
    "invM = torch.inverse(M)\n",
    "\n",
    "\n",
    "# Decouple a gray-scale image with `M`\n",
    "def decouple(inputs):\n",
    "    return torch.einsum('bihw,ij->bjhw', inputs, M)\n",
    "\n",
    "\n",
    "# The inverse function to `decouple`.\n",
    "def couple(inputs):\n",
    "    return torch.einsum('bihw,ij->bjhw', inputs, invM)\n",
    "\n",
    "\n",
    "def get_mask(image):\n",
    "    mask = torch.cat([torch.ones_like(image[:, :1, ...]),\n",
    "                      torch.zeros_like(image[:, 1:, ...])], dim=1)\n",
    "    return mask\n",
    "\n",
    "\n",
    "image_rgb = cycle_gan_128x128.load_images()[0]\n",
    "plt.imshow(image_rgb)\n",
    "plt.axis(\"off\")\n",
    "plt.show()\n",
    "\n",
    "batch_rgb = ToTensor()(image_rgb)\n",
    "batch_rgb = torch.tensor([batch_rgb.numpy()])\n",
    "\n",
    "image_nir = nirReference_128x128.load_images()[0]\n",
    "plt.imshow(image_nir)\n",
    "plt.axis(\"off\")\n",
    "plt.show()\n",
    "\n",
    "batch_nir = ToTensor()(image_nir)\n",
    "batch_nir = torch.tensor([batch_nir.numpy()])\n",
    "\n",
    "\n",
    "def plot_batch(batch):\n",
    "    fig, axes = plt.subplots(1, 3)\n",
    "\n",
    "    axes[0].imshow(batch[0, 0, :, :], cmap=\"gray\")\n",
    "    axes[0].axis('off')\n",
    "    axes[1].imshow(batch[0, 1, :, :], cmap=\"gray\")\n",
    "    axes[1].axis('off')\n",
    "    axes[2].imshow(batch[0, 2, :, :], cmap=\"gray\")\n",
    "    axes[2].axis('off')\n",
    "\n",
    "    plt.subplots_adjust(wspace=0, hspace=0)\n",
    "    plt.show()\n",
    "\n",
    "\n",
    "decoupled_rgb = decouple(batch_rgb)\n",
    "plot_batch(decoupled_rgb)\n",
    "\n",
    "mask = get_mask(batch_rgb)\n",
    "masked_decoupled_rgb = decoupled_rgb * (1. - mask)\n",
    "plot_batch(masked_decoupled_rgb)\n",
    "\n",
    "decoupled_nir = decouple(batch_nir)\n",
    "plot_batch(decoupled_nir)\n",
    "\n",
    "masked_decoupled_nir = decoupled_nir * mask\n",
    "plot_batch(masked_decoupled_nir)\n",
    "\n",
    "combined_decoupled = masked_decoupled_rgb + masked_decoupled_nir\n",
    "plot_batch(combined_decoupled)\n",
    "\n",
    "mixed = couple(combined_decoupled)\n",
    "plot_batch(mixed)\n",
    "plt.imshow(ToPILImage()(mixed[0]))\n",
    "plt.axis(\"off\")\n",
    "plt.show()\n",
    "\n",
    "plt.show()\n",
    "\n",
    "plt.imshow(ToPILImage()(couple(decoupled_rgb)[0]))\n",
    "\n",
    "plt.show()"
   ]
  },
  {
   "cell_type": "code",
   "execution_count": null,
   "metadata": {},
   "outputs": [],
   "source": [
    "M = np.array([\n",
    "    [1 / 3, 1 / 3, 1 / 3],\n",
    "    [1 / 3, 0, 0],\n",
    "    [0, 1 / 3, 0]\n",
    "])\n",
    "\n",
    "invM = np.linalg.inv(M)\n",
    "\n",
    "display(np.linalg.qr(M))\n",
    "display(np.linalg.eigh(invM)[1])"
   ]
  }
 ],
 "metadata": {
  "kernelspec": {
   "display_name": "Python 3 (ipyflow)",
   "language": "python",
   "name": "ipyflow"
  },
  "language_info": {
   "codemirror_mode": {
    "name": "ipython",
    "version": 3
   },
   "file_extension": ".py",
   "mimetype": "text/x-python",
   "name": "python",
   "nbconvert_exporter": "python",
   "pygments_lexer": "ipython3",
   "version": "3.10.6"
  }
 },
 "nbformat": 4,
 "nbformat_minor": 1
}
